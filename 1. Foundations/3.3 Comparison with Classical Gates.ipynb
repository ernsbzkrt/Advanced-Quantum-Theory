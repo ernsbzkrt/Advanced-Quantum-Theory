{
  "nbformat": 4,
  "nbformat_minor": 0,
  "metadata": {
    "colab": {
      "provenance": []
    },
    "kernelspec": {
      "name": "python3",
      "display_name": "Python 3"
    },
    "language_info": {
      "name": "python"
    }
  },
  "cells": [
    {
      "cell_type": "markdown",
      "source": [
        "### **3.2. Comparison with Classical Gates**\n",
        "\n",
        "There are commonly used gates for classical computers, such as:\n",
        "\n",
        "* AND,\n",
        "* NOT,\n",
        "* OR,\n",
        "* NAND,\n",
        "* XOR,\n",
        "* FANOUT.\n",
        "\n",
        "With combinations of these gates, we can perform any classical computation. If a classical computer can execute these gates, it is considered **Turing Complete or Universal**.\n",
        "\n",
        "In fact, the NAND gate alone is sufficient to construct all other classical operators (and similarly, the NOR gate too!). However, AND, OR, XOR, NAND, or FANOUT gates cannot be used in quantum computations. This is because AND, OR, XOR, and NAND gates are irreversible. The FANOUT gate requires copying a state, which is not possible in the quantum world. Among the basic classical gates, only the NOT operator can be used in the quantum computing environment because it is reversible and does not involve cloning.\n",
        "\n",
        "Can we compare these gates with quantum gates? Theoretically, although the answer seems to be **yes**, in reality, the answer is **no**. There are significant differences between the two types of gates.\n",
        "\n",
        "* Classical gates are gates that perform logical operations. These are not only the basic building blocks for classical computers but also enable the generation of a limited number of outputs.\n",
        "\n",
        "* On the other hand, quantum gates are powerful operators that perform certain quantum operations on a single qubit or multiple qubits. These gates can perform calculations by transforming the qubit they operate on using quantum properties such as superposition, quantum parallelism, and quantum entanglement. Quantum computers provide significant advantages at this point, enabling powerful computations.\n",
        "\n",
        "* The operations performed by classical gates cannot be reversed. However, the operations performed by quantum gates are always reversible. Additionally, classical gates cannot exhibit features such as superposition and entanglement.\n",
        "\n",
        "In summary, quantum gates are designed for more complex and specialized operations than classical gates.\n",
        "\n",
        "You can find the discussed statements in the table below. This will be more understandable and easier to follow.\n",
        "\n",
        "| Properties          | Classical Gates                 | Quantum Gates                |\n",
        "|---------------------|---------------------------------|------------------------------|\n",
        "| Function            | Logical operations (AND, NOT, OR) | Quantum transformations and operations |\n",
        "| Outputs             | Limited number                   | Generally unlimited          |\n",
        "| Reversibility       | Some irreversible (NOT)         | Always reversible            |\n",
        "| Superposition       | Not applicable                   | Applicable                   |\n",
        "| Quantum Entanglement | Not applicable                   | Applicable                   |\n",
        "| Quantum Parallelism | Not applicable                   | Applicable                   |\n",
        "| Examples            | AND, NOT, OR, NAND, XOR, FANOUT | Hadamard, Pauli-X, CNOT, Toffoli |\n",
        "\n"
      ],
      "metadata": {
        "id": "CwGjTqskFx95"
      }
    }
  ]
}