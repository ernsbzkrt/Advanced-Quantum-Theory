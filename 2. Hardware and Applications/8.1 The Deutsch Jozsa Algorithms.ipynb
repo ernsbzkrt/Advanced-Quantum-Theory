{
  "nbformat": 4,
  "nbformat_minor": 0,
  "metadata": {
    "colab": {
      "provenance": []
    },
    "kernelspec": {
      "name": "python3",
      "display_name": "Python 3"
    },
    "language_info": {
      "name": "python"
    }
  },
  "cells": [
    {
      "cell_type": "markdown",
      "source": [
        "###**8.1. The Deutsch-Jozsa Algorithm**\n",
        "\n",
        "Deutsch's algorithm is the first algorithm to demonstrate a clear advantage in quantum computing compared to classical computing.\n",
        "\n",
        "Deutsch's problem is that we have a black box, which computes a one-bit Boolean function. In other words, it is a function that takes one bit and produces one bit as output. For example, this function could represent a routing algorithm, and the output indicates the chosen route (0 or 1).\n",
        "\n",
        "**Let's explain this statement more simply.**\n",
        "\n",
        "* Let's say we are interested in a routing algorithm. This algorithm takes a network map consisting of many different routes and selects the best route to reach a specific destination. For example, when a person wants to go from point A to point B, the routing algorithm can show them the shortest or fastest way.\n",
        "\n",
        "* Now, let's consider this routing algorithm as a \"black box\". This means that this box takes a starting position as input and specifies the best route as output. This function can be thought of as a one-bit Boolean function because it has only two possible outputs: 0 or 1.\n",
        "\n",
        "* For example, if a person wants to go from point A to point B, the routing algorithm can give an output of 0 (0: Shortest route). Alternatively, in another direction, it can give an output of 1 indicating that the route is longer or slower (1: Faster route).\n",
        "\n",
        "Deutsch's problem is to understand the function of this black box. That is, to determine whether this function is constant or balanced. A constant function always gives the same output, while a balanced function produces different outputs depending on the inputs. While this typically requires at least two queries for classical computers, the Deutsch algorithm can determine this function with just one query. This demonstrates the potential acceleration of quantum computers."
      ],
      "metadata": {
        "id": "gsGeY4DTiecp"
      }
    },
    {
      "cell_type": "markdown",
      "source": [
        "Mathematically, when we examine the black box, we can see that there are four different functions that can be obtained from the black box. These are f0, f1, fX, and fX2.\n",
        "\n",
        "- f0: This is a constant function. That is, it always produces the same output. For example, it can always output 0 regardless of the input.\n",
        "\n",
        "- f1: This is also a constant function and always produces the same output. For example, it can always output 1 regardless of the input.\n",
        "\n",
        "- fX: This is a balanced function. That is, it produces different outputs depending on the inputs, but it has an equal number of 0s and 1s in its truth table. For example, the output can be 0 when the input is 0 and can be 1 when the input is 1.\n",
        "\n",
        "- fX2: This is also a balanced function and has similar properties to fX. It produces different outputs depending on the inputs, but it has an equal number of 0s and 1s in its truth table. For example, the output can be 1 when the input is 0 and can be 0 when the input is 1.\n",
        "\n",
        "Deutsch's algorithm is used to determine whether this black box function is constant or balanced among these four different functions.\n",
        "\n",
        "As mentioned above:\n",
        "\n",
        "- Deutsch's algorithm evaluates the function of this black box and determines whether this function is constant or balanced. A classical computer needs to make at least two queries (for f0 and f1) to solve such a problem. However, the Deutsch algorithm can determine the nature of this function with just one query using **quantum superposition**. This provides a significant speedup compared to classical computers and demonstrates the advantages of quantum computation."
      ],
      "metadata": {
        "id": "PjhlTIlCiv7w"
      }
    },
    {
      "cell_type": "markdown",
      "source": [
        "----------------------\n",
        "\n",
        "**Let's define Deutsch's problem more clearly. As it is now known;**\n",
        "\n",
        "- Determine whether the function is balanced or constant when given access to a one-bit input and a one-bit output, with as few queries to the function as possible.\n",
        "\n",
        "----------------------"
      ],
      "metadata": {
        "id": "yKaZnc0OjIko"
      }
    },
    {
      "cell_type": "markdown",
      "source": [
        "When approaching the problem with classical tools, we know that we need to query the function at least twice.\n",
        "\n",
        "**Our queries would be for the following purpose:**\n",
        "\n",
        "* First, to see the output when the input is 0,\n",
        "* Then, to see the output when the input is 1.\n",
        "\n",
        "David Deutsch's remarkable discovery is that only one query is needed, which is possible on a quantum computer. The original Deutsch algorithm deals with a one-bit Boolean oracle case, and the Deutsch-Jozsa algorithm generalizes this approach to handle n-input Boolean functions. Solving an n-bit Boolean function, which requires at least n queries with classical tools, is solved in just one query with the Deutsch-Jozsa algorithm."
      ],
      "metadata": {
        "id": "or0CuLLWjNUv"
      }
    },
    {
      "cell_type": "markdown",
      "source": [
        "----------------------------\n",
        "\n",
        "**Quantum Advantage Demonstrated by Deutsch-Jozsa**\n",
        "\n",
        "Classically, distinguishing a constant function from a balanced function requires querying a one-bit Boolean function twice. For an n-bit Boolean function, querying n times is necessary. By using Deutsch-Jozsa on a quantum computer, only one query is sufficient.\n",
        "\n",
        "------------------------------------"
      ],
      "metadata": {
        "id": "UaTVey_3jTeH"
      }
    },
    {
      "cell_type": "markdown",
      "source": [
        "Quantum computers, unlike traditional computers, require reversible operations that map the state of any input to a single outcome. However, some classical functions do not provide this property. For example, constant functions f0 and f1 do not map the result of any input to a specific output and therefore cannot be reversed. To execute such functions on quantum computers, we need to make these operations reversible.\n",
        "\n",
        "One way to do this is to perform the computation on an additional register or store the inputs in an additional register. For example, let's assume we have an n-bit input x and we compute a (non-reversible) Boolean function f(x). In this case, we can express this operation as a unit acting on n+1 qubits interdependently. This unit allows us to implement the classical function to work with quantum computers.\n",
        "\n",
        "**Let's illustrate this mathematically:**\n",
        "\n"
      ],
      "metadata": {
        "id": "kloMVI5JjYnn"
      }
    },
    {
      "cell_type": "markdown",
      "source": [
        "\n",
        "   ![Screenshot 2024-05-05 060348.png](data:image/png;base64,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)\n"
      ],
      "metadata": {
        "id": "Nv24kRIbjnXo"
      }
    },
    {
      "cell_type": "markdown",
      "source": [
        "Let's discuss this formula a bit:\n",
        "\n",
        "* The plus sign inside the circle represents the modulo-2 addition (XOR) operation.\n",
        "\n",
        "* This function determines how Uf affects all computational basis states (|x) and the single output qubit (|y).\n",
        "\n",
        "The fact that Uf is defined on the computational basis implies that we can extend the input and output vectors of this operation using the linearity property. This means that Uf is defined across the entire state space.\n",
        "\n",
        "To see that the transformation is reversible, we can observe that applying Uf twice brings us back to the initial state. This demonstrates that each step of the operation is reversible.\n",
        "\n",
        "Additionally, it should be noted that Uf maps its orthonormal computational basis onto itself, thus preserving the lengths of the vectors it operates on. This allows Uf to be considered as unitary."
      ],
      "metadata": {
        "id": "AhPmYXRnjoI_"
      }
    },
    {
      "cell_type": "markdown",
      "source": [
        "At the heart of this algorithm lies the presence of a superposition state in quantum computers, unlike classical computers that only have two states, 0 and 1. Quantum bits can exist as both 0 and 1 simultaneously. This necessitates the use of a measurement basis that is different from the standard computational basis used when performing computations—known as the Z-basis. This is where the Hadamard basis comes into play. The Hadamard basis represents a state of superposition between 0 and 1. Therefore, measuring in this basis allows us to leverage the quantum advantage because classical computers cannot measure in this basis. This simple change brings out the power of quantum computers and enables certain algorithms to run much faster than classical computers."
      ],
      "metadata": {
        "id": "mpxKt7I0jxP4"
      }
    },
    {
      "cell_type": "markdown",
      "source": [
        "###**Now let's do an example with the Deutsch-Jozsa algorithm.**\n"
      ],
      "metadata": {
        "id": "HH7ewM-akH5Q"
      }
    },
    {
      "cell_type": "code",
      "source": [
        "from qiskit import QuantumCircuit\n",
        "from qiskit_aer import Aer\n",
        "\n",
        "# Create a quantum circuit with 2 qubits\n",
        "qc = QuantumCircuit(2, 1)\n",
        "\n",
        "# Apply a Hadamard gate to the first qubit\n",
        "qc.h(0)\n",
        "\n",
        "# Apply a controlled-NOT gate from the first qubit to the second qubit\n",
        "qc.cx(0, 1)\n",
        "\n",
        "# Apply a Hadamard gate to the second qubit\n",
        "qc.h(1)\n",
        "\n",
        "# Measure the second qubit\n",
        "qc.measure(1, 0)\n",
        "\n",
        "# Print the circuit\n",
        "print(qc.draw())\n",
        "\n",
        "# Run the circuit on a simulator\n",
        "simulator = Aer.get_backend('aer_simulator')\n",
        "job = simulator.run(qc, shots=1000)\n",
        "result = job.result()\n",
        "\n",
        "# Get the counts\n",
        "counts = result.get_counts()\n",
        "\n",
        "# Print the counts\n",
        "print(counts)"
      ],
      "metadata": {
        "colab": {
          "base_uri": "https://localhost:8080/"
        },
        "id": "6K_sA-tskK1_",
        "outputId": "a7bf1b65-8c95-41f5-e967-4a0af0e306fe"
      },
      "execution_count": 3,
      "outputs": [
        {
          "output_type": "stream",
          "name": "stdout",
          "text": [
            "     ┌───┐             \n",
            "q_0: ┤ H ├──■──────────\n",
            "     └───┘┌─┴─┐┌───┐┌─┐\n",
            "q_1: ─────┤ X ├┤ H ├┤M├\n",
            "          └───┘└───┘└╥┘\n",
            "c: 1/════════════════╩═\n",
            "                     0 \n",
            "{'0': 490, '1': 510}\n"
          ]
        }
      ]
    },
    {
      "cell_type": "markdown",
      "source": [
        "Let's discuss the output above.\n",
        "\n",
        "**In the first output, we see the circuit we created and its components.**\n",
        "Here:\n",
        "* H: Hadamard Gate applies a certain transformation to quantum bits.\n",
        "* X: Pauli-X gate applies the NOT operation to quantum bits.\n",
        "* M: Measurement gate resolves the superposition of quantum bits into a result (0 or 1).\n",
        "\n",
        "**{'1': 510, '0': 490}**\n",
        "\n",
        "**These are the measurement results. The breakdown is as follows:**\n",
        "\n",
        "- 510: The number of results where the outcome is 1.\n",
        "- 490: The number of results where the outcome is 0.\n",
        "- The total number of measurements is 1000 (as specified by the shots parameter), and the results sum up to 1000 in total."
      ],
      "metadata": {
        "id": "ql4jQw-_kSm_"
      }
    }
  ]
}