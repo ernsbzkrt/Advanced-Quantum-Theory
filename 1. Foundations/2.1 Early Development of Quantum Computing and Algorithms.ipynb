{
  "nbformat": 4,
  "nbformat_minor": 0,
  "metadata": {
    "colab": {
      "provenance": []
    },
    "kernelspec": {
      "name": "python3",
      "display_name": "Python 3"
    },
    "language_info": {
      "name": "python"
    }
  },
  "cells": [
    {
      "cell_type": "markdown",
      "source": [
        "**2. Brief History of Quantum Computing**\n",
        "\n",
        "The idea of ​​performing calculations using techniques from quantum mechanics has been one of the goals of researchers for a long time. Especially, the principles of **superposition and entanglement** have always been one of the subjects of debate among researchers, as they can form the basis of a very powerful computation. The biggest debate here is how such a system can be easily manipulated and measured.\n",
        "\n",
        "Let's open up the last statement a bit more for discussion. For the utilization of superposition and entanglement, it is necessary for systems to be easily manipulable and measurable. This is an important requirement to enhance the effectiveness of quantum computers and make them practically usable. Manipulation refers to the operations necessary to perform computational processes, while measurement refers to the process of determining the states of quantum systems. These two steps enable the successful execution of the quantum computation process.\n",
        "\n",
        "Richard Feynman (one of the most influential physicists of the 20th century, known for his work in quantum electrodynamics) is often associated with the birth of quantum computers by many, but there were a few researchers who foresaw this idea beforehand. A young researcher named Paul Benioff demonstrated the theoretical basis of quantum computation in a paper he published. In subsequent sections, he also outlined how such a computer could be constructed. According to his published report, he stated that the computation process is defined by a state evolving under a **Hamiltonian Effect**.\n",
        "\n",
        "Another Quantum Computing researcher, Yuri Manin, discussed his idea about quantum computing in his book titled **Computable and Non-Computable**. The author wrote this book in Russian, and it was later translated into other languages years after its publication."
      ],
      "metadata": {
        "id": "b03dNOTgyoet"
      }
    },
    {
      "cell_type": "markdown",
      "source": [
        "### **2.1. Early Developments and Algorithms**\n",
        "\n",
        "The works of Benioff, Manin, and Feynman enabled us to understand the nature of quantum computers. Subsequently, physicist David Deutsch, who was at Oxford University, proposed a comprehensive framework for quantum computation in a paper published in 1985. In this work, he detailed how **quantum algorithms** could work and predicted that quantum computers could one day be built. Not stopping there, Deutsch developed and further generalized an algorithm that could work faster on quantum computers in collaboration with Richard Jozsa.\n",
        "\n",
        "The name of this generalized algorithm is the **Deutsch-Jozsa** algorithm. This generalized algorithm could solve a problem that a classical computer could solve in **O(n)** steps in just one step on a quantum computer. This was a significant step in demonstrating the potential of quantum computers and emphasizing the superiority of quantum computation.\n",
        "\n",
        "Here, we need to discuss **O(n)**. This designation, also known as Big O notation, is used to evaluate how efficient an algorithm is. For example, if a problem that needs to be solved on classical computers requires O(n) steps, it can be solved in 1 step on quantum computers. This notation helps us determine the difference between classical and quantum algorithms.\n",
        "\n",
        "Umesh Vazirani and his student Ethan Bernstein continued from where the Deutsch-Jozsa algorithm left off. Bernstein and Vazirani (BV) developed an algorithm that demonstrated a clear quantum-classical distinction even when small errors were allowed.\n",
        "\n",
        "This was an extremely important step because the Deutsch-Jozsa algorithm showed a deterministic quantum advantage, meaning it always produces the correct result. However, when small errors are allowed during computation, classical and quantum versions show the same performance in the worst case scenario. They do not distinguish between them in this case. On the other hand, the Bernstein-Vazirani (BV) algorithm shows a distinction between quantum and classical computers even when small errors are allowed. The BV algorithm provides an advantage in quantum computers despite small errors, demonstrating a non-deterministic quantum advantage. While solving the BV problem on a classical computer takes O(n) time, it can be solved in O(1) time using the BV circuit on a quantum computer. This shows that a quantum computer can work faster with the BV algorithm.\n",
        "\n",
        "Bernstein and Vazirani described a version of the Quantum Fourier Transform in their papers. This would serve as a critical component for Peter Shor, who developed an algorithm to factor large numbers.\n",
        "\n",
        "Daniel Simon, as a postdoc at the University of Montreal in 1994, followed Bernstein and Vazirani's work. Simon identified a problem that a quantum computer would clearly solve exponentially faster than a classical computer. More specifically, while the upper bound of Simon's algorithm is O(n) on a quantum computer, it is a higher 2^(n/2) on a classical computer. The lower bound on a classical computer is higher than the upper bound on a quantum computer, clearly demonstrating the quantum advantage."
      ],
      "metadata": {
        "id": "AhWsS5vByuR8"
      }
    }
  ]
}