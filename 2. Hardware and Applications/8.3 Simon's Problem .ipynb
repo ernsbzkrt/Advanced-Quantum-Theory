{
  "nbformat": 4,
  "nbformat_minor": 0,
  "metadata": {
    "colab": {
      "provenance": []
    },
    "kernelspec": {
      "name": "python3",
      "display_name": "Python 3"
    },
    "language_info": {
      "name": "python"
    }
  },
  "cells": [
    {
      "cell_type": "markdown",
      "source": [
        "###**8.3. Simon's Problem**\n",
        "\n",
        "Simon’s Problem is an algorithm and a sample problem set used in the field of quantum computing to solve a classical problem. It was originally proposed by Daniel Simon and is one of the early examples demonstrating that quantum computers can be faster than classical computers for certain specific problems.\n",
        "\n",
        "Simon’s Problem involves the following:\n",
        "\n",
        "* Consider a function 𝑓:{0,1}𝑛→{0,1}𝑛, where 𝑓:{0,1} n →{0,1} n.\n",
        "\n",
        "* This function is either a one-to-one (1-1) function or a two-to-one (2-1) function, meaning for each output 𝑦, there are two different inputs 𝑥.\n",
        "\n",
        "In the case of the second condition, the function has the property:\n",
        "\n",
        "* For s ≠ 0, 𝑓(𝑥) = 𝑓( 𝑥 ⊕ 𝑠 ), where ⊕ represents the bit-wise XOR operation. The goal is to find this hidden value 𝑠.\n",
        "\n",
        "Now, there are two solutions to this problem. (1) A Classical Solution, which is solved using a classical computer, and (2) A Quantum Solution, which is solved using a quantum computer.\n",
        "\n",
        "\n",
        "**Let's examine these and discuss their differences.**"
      ],
      "metadata": {
        "id": "j6dJ62V-muri"
      }
    },
    {
      "cell_type": "markdown",
      "source": [
        "### **8.3.1 Classical Computer Solution**\n",
        "\n",
        "Solving Simon's Problem on a classical computer can be quite challenging. In this problem, we aim to find an **s value** such that f(x) = f(x⊕s). This **s value** is hidden, and the pairs of **x and x⊕s** yield the same function output.\n",
        "\n",
        "To solve this problem on a classical computer, we need to check the output of the function for all possible x values and their corresponding 𝑥 ⊕ 𝑠 values. This requires, on average, 2^𝑛/2 function calls. Let's explain and discuss this a bit further.\n",
        "\n",
        "For example, if n=10:\n",
        "* 2^10/2 =\n",
        "* 2^5 = 32, indicating that 32 function calls are required. It can be observed that as the **n value** increases, this number grows exponentially. Therefore, solving this problem on classical computers becomes a time-consuming and challenging process.\n",
        "\n",
        "The classical solution of the problem involves checking the condition 𝑓(𝑥) = 𝑓(𝑥⊕ 𝑠) for x and 𝑥 ⊕ 𝑠 pairs. This process involves many trials and errors based on probability. For each new x, we need to check whether f(x) equals 𝑓(𝑥⊕ 𝑠), and this process continues until any information about 𝑠 is obtained.\n",
        "\n",
        "In summary, solving Simon’s Problem on a classical computer is highly inefficient due to its exponential nature, likely requiring numerous trials and errors."
      ],
      "metadata": {
        "id": "g3BtQAx1nBLA"
      }
    },
    {
      "cell_type": "markdown",
      "source": [
        "### **8.3.2 Quantum Computer Solution**\n",
        "\n",
        "In the quantum solution, effective utilization of quantum computation principles such as quantum parallelism and measurement principle is employed to find the **hidden s sequence**. The algorithm essentially consists of two main stages:\n",
        "\n",
        "These are;\n",
        "* Superposition and Function Application,\n",
        "* Fourier Transformation and Measurement\n",
        "\n",
        "...now let's discuss these in detail below."
      ],
      "metadata": {
        "id": "bhlXo62snVaX"
      }
    },
    {
      "cell_type": "markdown",
      "source": [
        "**1. Superposition and Function Application**\n",
        "\n",
        "Firstly, a quantum system of **n bits** is initialized in the state **|0⟩**. The Hadamard transformation brings this system to a superposition state, with each bit having a 50% chance of being in the state **|0⟩** or **|1⟩**. Then, the quantum computer applies the function **𝑓** to all possible inputs, which essentially means applying **𝑓** to each input without making any preference among different inputs.\n",
        "\n",
        "**2. Fourier Transformation and Measurement**\n",
        "\n",
        "In this superposition state, there exists a relationship among the inputs due to a hidden **𝑠** sequence. Then, another Hadamard transformation is applied. This transformation is the bitwise XOR operation, the sum of the bits of **𝑥** and **𝑦**. This step brings **𝑦** to a state where it is orthogonal to **𝑠**, meaning:\n",
        "* 𝑦 ⋅𝑠 = 0.\n",
        "\n",
        "**3. Solution and Outcome**\n",
        "\n",
        "Finally, we measure this **𝑦** value. This process provides various linear equations where **𝑦** is orthogonal to **𝑠**. By repeating this process several times, we obtain different **𝑦** values and solve the set of linear equations using these values. This allows us to determine the **𝑠** sequence.\n",
        "\n",
        "**Advantage of the Quantum Algorithm**\n",
        "\n",
        "This quantum algorithm solves Simon's Problem much faster than classical algorithms. Where the classical algorithm requires an average of **2^n/2** calls, the quantum algorithm solves the problem with just **O(n)** calls. This is a significant example demonstrating how effective quantum computers can be for certain problems."
      ],
      "metadata": {
        "id": "or2tpS4onb7e"
      }
    }
  ]
}