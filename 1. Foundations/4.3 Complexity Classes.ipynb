{
  "nbformat": 4,
  "nbformat_minor": 0,
  "metadata": {
    "colab": {
      "provenance": []
    },
    "kernelspec": {
      "name": "python3",
      "display_name": "Python 3"
    },
    "language_info": {
      "name": "python"
    }
  },
  "cells": [
    {
      "cell_type": "markdown",
      "source": [
        "### **4.3. Complexity Classes**\n",
        "\n",
        "We need to understand some common complexity classes used in classical computer science. Let's discuss them briefly below.\n",
        "\n",
        "* **P - Polynomial Time**: Problems in this class can be solved in polynomial time. This means that finding a solution for these problems takes time proportional to a polynomial function of the input size. For instance, problems with time complexities such as O(1), O(log n), O(n), O(n log n), and O(n^2) belong to the polynomial time class. Problems in this class are usually solvable in a reasonable amount of time practically.\n",
        "\n",
        "* **NP - Nondeterministic Polynomial Time**: This class includes problems where the time taken by an algorithm to compute on a given input size grows as a polynomial function. As the input size increases, the processing time increases rapidly, but the rate of growth of time with input size increases according to a polynomial function of a certain constant degree. Many NP problems include problems that have not been effectively solved so far. Many significant NP problems seem unsolvable in practical applications and are still active research topics in computer science.\n",
        "\n",
        "We also need to discuss the terms NP-Complete and NP-Hard here.\n",
        "\n",
        "* Designating a problem as NP-Complete means that it belongs to NP and that all NP problems can be reduced to that problem in polynomial time. In other words, solving an NP-Complete problem may be as difficult as solving all NP problems.\n",
        "\n",
        "* Designating a problem as NP-Hard is only about being able to reduce all NP problems to that problem in polynomial time. NP-Hard problems may not be in NP; that is, a problem can be NP-Hard but not NP-Complete. In this case, an NP-Hard problem can be defined as one for which it is not guaranteed that a solution can be found quickly, but when a solution is found, it is correct.\n",
        "\n",
        "* **PSPACE**: This is a complexity class focusing on memory usage. This class defines the total amount of memory used by an algorithm for all inputs. The fundamental feature of PSPACE is that the amount of memory required for a decision problem is polynomially limited according to the input size. Thus, no algorithm is allowed to use unlimited memory to find a solution to a problem. Therefore, the amount of memory used to solve a problem in PSPACE should be expressed as a function of a non-exponential polynomial function. PSPACE is important, especially in problems where memory constraints are significant, such as searching game trees. This class is commonly used in solving some challenging problems encountered in computer science and artificial intelligence.\n",
        "\n",
        "* **BPP - Bounded-error Probabilistic Polynomial Time**: This represents the class of polynomial time complexity with limited error probability. It is a class used to solve decision problems and evaluates the performance of randomized algorithms, in particular. If a problem belongs to BPP, it means that finding a solution for the problem is possible in polynomial time and that this solution has a certain probability of error. Algorithms in BPP sometimes use randomness to find the correct answer, so they do not always produce the same result when run. Essentially, an algorithm in BPP responds to a decision problem by working with randomly selected bits. This algorithm has a certain probability of success for each input. This probability is usually set to be 2/3 or higher. BPP is important, especially in cases where randomized algorithms can provide faster results than deterministic algorithms. For example, it has been shown that randomized algorithms are more efficient in some problems. However, proving BPP = P (i.e., that randomized algorithms are equivalent to deterministic algorithms) remains an open problem.\n",
        "\n",
        "* **BQP - Bounded-error Quantum Polynomial Time**: BQP is the quantum counterpart of the BPP class for classical computation. A decision problem is in BQP if it can be solved in polynomial time by a quantum computer and yields the correct answer with high probability. BQP is the primary complexity class we focus on when considering quantum computation. BQP includes problems believed to be unsolvable in the classical regime but solvable in bounded-error polynomial time on a quantum computer. The reason we say \"believed\" is because, for example, there is no classical algorithm to factor large numbers, but it doesn't mean such an algorithm doesn't exist.\n",
        "\n",
        "* **EQP - Exact Quantum Polynomial Time**: This represents a decision problem solvable by a quantum circuit, which must give the correct answer with probability 1. In other words, this class is identical to BQP but requires the answer to be provided exactly instead of with a certain limited error probability.\n",
        "\n",
        "* **QMA - Quantum Merlin-Arthur**: QMA is the quantum counterpart of the probabilistic class MA. A Merlin-Arthur (MA) problem is one in which a verifier (Arthur) solves a problem by receiving a message from a prover (Merlin). In the classical complexity class MA, Arthur can verify a proof in polynomial time. Problems in QMA have the following properties: If the answer is Yes, the verifier can verify with a probability greater than 2/3 using a proof that runs in polynomial time on a quantum computer. If the answer is No, the verifier can reject the proof with an error probability of at most 1/3.\n",
        "\n",
        "\n",
        "  | Classical    | Quantum     |\n",
        "  |--------------|-------------|\n",
        "  | P            | EQP         |\n",
        "  | BPP          | BQP         |\n",
        "  | NP           | QMA         |\n",
        "\n"
      ],
      "metadata": {
        "id": "Jy0TT_lqJGKC"
      }
    }
  ]
}