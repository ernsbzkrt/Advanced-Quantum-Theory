{
  "nbformat": 4,
  "nbformat_minor": 0,
  "metadata": {
    "colab": {
      "provenance": []
    },
    "kernelspec": {
      "name": "python3",
      "display_name": "Python 3"
    },
    "language_info": {
      "name": "python"
    }
  },
  "cells": [
    {
      "cell_type": "markdown",
      "source": [
        "### **7.3. Bell Inequality Test**\n",
        "\n",
        "The Bell Inequality Test is an important experiment that demonstrates fundamental differences between quantum mechanics and classical physics. This test is designed to reveal Bell's Inequality, a phenomenon that helps us better understand certain properties of quantum mechanics.\n",
        "\n",
        "#### **7.3.1. What is Bell's Inequality?**\n",
        "\n",
        "Bell's Inequality was formulated by the Irish physicist John Bell in 1964. Bell devised a method to test the concept of \"quantum entanglement,\" a fundamental feature of quantum mechanics. This inequality states that there should be a maximum certain type of relationship that can be observed in a series of experiments. While classical physics cannot exceed this relationship, quantum mechanics can surpass it in some cases.\n",
        "\n",
        "#### **7.3.2. How Does the Bell Inequality Test Work?**\n",
        "\n",
        "The Bell Inequality Test typically examines the relationships between two separate particles. These particles could be, for example, a pair of photons and are often separated by a distance.\n",
        "\n",
        "The experiment usually involves the following steps:\n",
        "\n",
        "**a. Preparation:** Two particles are created, often simultaneously ejected from a source. These particles are separated from each other, preventing their interaction.\n",
        "\n",
        "**b. Measurement:** The specific property of each particle (e.g., spin) is measured. These measurements are typically performed at specific angles.\n",
        "\n",
        "**c. Comparison of Results:** To test Bell's Inequality, the relationship between the measurements of both particles is determined. This is often done using a correlation coefficient.\n",
        "\n",
        "#### **7.3.3. Results of Bell's Inequality**\n",
        "\n",
        "In classical physics, the relationship between particles is limited to a certain boundary. However, quantum mechanics can sometimes fail to reach this boundary and may exhibit a higher correlation.\n",
        "\n",
        "These results highlight the fundamental differences between classical physics and quantum mechanics. The Bell Inequality Test helps us develop a deeper understanding of the nature of quantum mechanics and serves as an important tool for explaining concepts such as quantum entanglement. Therefore, the Bell Inequality Test is considered one of the fundamental experiments of modern quantum physics."
      ],
      "metadata": {
        "id": "wGvGUZqii1bB"
      }
    },
    {
      "cell_type": "markdown",
      "source": [
        "####**Qiskit Bell Inequality Example**"
      ],
      "metadata": {
        "id": "ZkcHJq7li7Sh"
      }
    },
    {
      "cell_type": "code",
      "source": [
        "from qiskit import QuantumCircuit\n",
        "from qiskit_aer import AerSimulator\n",
        "import numpy as np\n",
        "\n",
        "def bell_test_circuit(theta_a, theta_b):\n",
        "    \"\"\"\n",
        "    Create a Bell test circuit with the given angles for Alice and Bob's measurements.\n",
        "    \"\"\"\n",
        "    qc = QuantumCircuit(2, 2)\n",
        "\n",
        "    # Create Bell state\n",
        "    qc.h(0)\n",
        "    qc.cx(0, 1)\n",
        "\n",
        "    # Apply Alice's measurement basis\n",
        "    qc.ry(2*theta_a, 0)\n",
        "\n",
        "    # Apply Bob's measurement basis\n",
        "    qc.ry(2*theta_b, 1)\n",
        "\n",
        "    # Measure\n",
        "    qc.measure([0, 1], [0, 1])\n",
        "\n",
        "    return qc\n",
        "\n",
        "def get_correlation(result, shots):\n",
        "    \"\"\"\n",
        "    Calculate the correlation from the result counts.\n",
        "    \"\"\"\n",
        "    counts = result.get_counts()\n",
        "    corr = 0\n",
        "    for outcome, count in counts.items():\n",
        "        # outcome is a string of length 2, where the first bit is Alice's outcome\n",
        "        # and the second bit is Bob's outcome\n",
        "        outcome_int = int(outcome, 2)\n",
        "        alice_outcome = outcome_int // 2\n",
        "        bob_outcome = outcome_int % 2\n",
        "        corr += (-1)**(alice_outcome + bob_outcome) * count / shots\n",
        "    return corr\n",
        "\n",
        "def run_bell_test(theta_a, theta_b, shots=1024):\n",
        "    \"\"\"\n",
        "    Run the Bell test for the given angles for Alice and Bob's measurements.\n",
        "    \"\"\"\n",
        "    qc = bell_test_circuit(theta_a, theta_b)\n",
        "    simulator = AerSimulator()\n",
        "    result = simulator.run(qc, shots=shots).result()\n",
        "    return get_correlation(result, shots)\n",
        "\n",
        "# Angles for Alice and Bob\n",
        "theta_a_list = [0, np.pi/4]\n",
        "theta_b_list = [np.pi/8, -np.pi/8]\n",
        "\n",
        "# Calculate S-value\n",
        "S = 0\n",
        "for theta_a, theta_b in zip(theta_a_list, theta_b_list):\n",
        "    S += run_bell_test(theta_a, theta_b)\n",
        "    S -= run_bell_test(theta_a + np.pi/2, theta_b)\n",
        "    S += run_bell_test(theta_a, theta_b + np.pi/2)\n",
        "    S += run_bell_test(theta_a + np.pi/2, theta_b + np.pi/2)\n",
        "\n",
        "print(f\"S-value: {S}\")\n",
        "\n",
        "# Check if Bell inequality is violated\n",
        "if S > 2:\n",
        "    print(\"Bell inequality violated.\")\n",
        "else:\n",
        "    print(\"Bell inequality not violated.\")\n"
      ],
      "metadata": {
        "colab": {
          "base_uri": "https://localhost:8080/"
        },
        "id": "uDghF2B2i3GH",
        "outputId": "9c40b501-b6d4-4a35-c2bd-5e21e3890113"
      },
      "execution_count": 5,
      "outputs": [
        {
          "output_type": "stream",
          "name": "stdout",
          "text": [
            "S-value: 0.0\n",
            "Bell inequality not violated.\n"
          ]
        }
      ]
    }
  ]
}