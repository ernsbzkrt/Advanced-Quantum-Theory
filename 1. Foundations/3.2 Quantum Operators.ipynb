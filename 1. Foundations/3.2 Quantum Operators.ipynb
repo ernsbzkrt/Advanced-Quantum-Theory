{
  "nbformat": 4,
  "nbformat_minor": 0,
  "metadata": {
    "colab": {
      "provenance": []
    },
    "kernelspec": {
      "name": "python3",
      "display_name": "Python 3"
    },
    "language_info": {
      "name": "python"
    }
  },
  "cells": [
    {
      "cell_type": "markdown",
      "source": [
        "### **3.1. Quantum Operators**\n",
        "\n",
        "In the previous section of the study, we made the following definition regarding Quantum Operators:\n",
        "\n",
        "> Quantum Operators are special matrices used to change the state of qubits in quantum computers. These operators can transform one state of qubits into another and enable interactions between qubits.\n",
        "\n",
        "**Let's delve a bit further here.**"
      ],
      "metadata": {
        "id": "McuBh6SVE3SZ"
      }
    },
    {
      "cell_type": "markdown",
      "source": [
        "For a single-qubit operator, represented by a letter corresponding to the operator enclosed in a box, we show it with a line. For a two-qubit gate (expressed as a binary gate since it operates on two qubits), we represent it with an operator covering two quantum wires. As expected, for a ternary (triple) operator covering three wires, we represent it with an operator covering three wires.\n",
        "\n",
        "**The visual representations of the expressions mentioned above are as follows:**"
      ],
      "metadata": {
        "id": "4VC4u025E3Qo"
      }
    },
    {
      "cell_type": "markdown",
      "source": [
        "![Capture.PNG](data:image/png;base64,iVBORw0KGgoAAAANSUhEUgAAALIAAAB0CAYAAAAhO2jBAAAAAXNSR0IArs4c6QAAAARnQU1BAACxjwv8YQUAAAAJcEhZcwAADsMAAA7DAcdvqGQAAAVSSURBVHhe7d2xS5R/AMfx5w9wcXQQghDaGqQhacihlkAnkaLBxLAocAjOgqTlNoOgRQhuuaWWm67BghsycHIIKuKILgySTnE4LO5AfT7d1aOWPuf3+T4//J3fb+8XPMM9z4ny6e3D4y0FAjxAyPACIcMLhGwhCIIjP5AOy1k46tAIOT2Ws0DIxxfLWSDk44vlLBDy8cVyFtqGFq7qzfMnygz2/npP0HdF2fwrVeph66Lqldd6mh1VdzCgyccvVN7Y+v11+xByeixn4fDQ1lTK9DffM6DpUrWZ7982l2Z16kZR1f0X/kDI6bGchUND23qruXPdCnruqVTbjk7uaKiSv66xwvKBwP9EyOmxnIXDQgsreQ03r3dPzWs9Orfnm+anJpQr16PX8Qg5PZaz0D60La3P32k+A/dqOP/x4F33+4JmLszpffyj8S5CTo/lLLQPbV0LM2eb10di7rqhGksPNZhd1I/oTDuEnJ5xuda4HHtHrJ3n49OzWmrsvx/XVc5NKlNai163F/f9/uXDBrcAC+3GDVcKGusK1JMpqRad2xUuqzA+rWJ1MzrRnu0/HvawnIV2obU+WjsZnNDos88Hno/DalG3Jgr6etjHFRFCTo/lLLQLbbuc08XYP/Q29G7utu7GfK4ch5DTYzkLbUMLv6h4s19dQ4+0uNqIztX0qZjVtQcvtbKZJGNC/i9YzsJhoYUbH1ScHdeZrj6dH7msoUtXdT+3mDjiFkJOj+UsHHVohJwey1kg5OOL5SwQ8vHFchYI+fhiOQut0I76QDosBy8QMrxAyPACIcMLhAwvEDK8QMjwAiHDC4QMLxAyvEDI8AIhwwuEDC8QMrxAyPACIcMLhAwvEDK8QMjwAiHDC4QMLxAyvEDI8AIhwwuEDC8QMrxAyPACIcMLhAwvEDK8QMjwAiHDC4QMLxAyvEDI8AIhwwuEDC8QskHc/7z0fx1IjrUMOhUUIdthLQNCdgNrGRCyG1jLgJDdwFoGhOwG1jIgZDfErtUakWPv6IS4n+NfPkz4tTdIMuJR6NT3dRVrGRCyG1jLgJDdwFoGhOwG1jIgZDewlgEhu4G1DAjZDaxlQMhuYC0DQnYDaxkkCipc1ZvnT5QZ7P31/qDvirL5V6rUw9ZF1Suv9TQ7qu5gQJOPX6i8sfX76w5ByHZYyyB5UGsqZfqb7x/QdKnazPdvm0uzOnWjqOr+C20Qsh3WMkgc1NZbzZ3rVtBzT6XadnRyR0OV/HWNFZYPBN4OIdthLYOkQYWVvIab7+2emtd6dG7PN81PTShXrkevzQjZDmsZJAtqS+vzd5rPwL0azn88eNf9vqCZC3N6b3403kXIdljLIFlQ61qYOdt870jMXTdUY+mhBrOL+hGdSYKQ7bCWQaKgdp6PT89qqbH/flxXOTepTGktep0MIdthLYMkQYUrBY11BerJlFSLzu0Kl1UYn1axuhmdSIaQ7bCWQZKgWh+tnQxOaPTZ5wPPx2G1qFsTBX1N+nFFhJDtsJZBkqC2yzldjP1Db0Pv5m7rbsznyiaEbIe1DBIFFX5R8Wa/uoYeaXG1EZ2r6VMxq2sPXmpl0zZjQrbFWgZJgwo3Pqg4O64zXX06P3JZQ5eu6n5uMVXELYRsh7UMOhUUIdthLQNCdgNrGRCyG1jLgJDdwFoGhOwG1jIgZDewlgEhu4G1DAjZDaxlQMhuYC0DQnZD7FqtETn2jk6I+zn+5cOEX3uDJCMehU59X1exlgEhu4G1DAjZDaxlQMhuYC0DQnYDaxkQshtYy6AVVKcOJMda8AIhwwuEDC8QMrxAyPACIcMLhAwPSD8BLmMuCAij0cMAAAAASUVORK5CYII=)"
      ],
      "metadata": {
        "id": "jn9JSsRXE3Ox"
      }
    },
    {
      "cell_type": "markdown",
      "source": [
        "**Now let's delve deeper into Single and Two-Qubit Operators.**"
      ],
      "metadata": {
        "id": "LUnC2njiE3Mg"
      }
    },
    {
      "cell_type": "markdown",
      "source": [
        "**Single (Unary) Operators**\n",
        "\n",
        "As the name suggests, these operators are quantum operators that affect only one qubit. They are matrices that change the state of a single qubit.\n",
        "\n",
        "You can access my detailed study on this topic through the following link. Here, we examined each unary operator individually and discussed what they do.\n",
        "\n",
        "> **Link to the Relevant Topic:**\n",
        "\n",
        "> https://github.com/ernsbzkrt/Quantum-Computing/blob/main/Additional%20Essential%20Functionality/1)%20Standard%20Single%20Qubit%20Gates.ipynb\n",
        "\n"
      ],
      "metadata": {
        "id": "adOy90jYE3Kh"
      }
    },
    {
      "cell_type": "markdown",
      "source": [
        "**Multiple (Multi) Operators**\n",
        "\n",
        "As the name suggests, these operators are used for operators that affect multiple qubits in quantum computations. These operators affect not just a single qubit, but multiple qubits. For example, many gates like CNOT (Controlled NOT) are operators that affect multiple qubits. These types of operators enable interactions between qubits and are used to perform complex computations in quantum circuits.\n",
        "\n",
        "You can access my detailed study on this topic through the following link. Here, we examined each multi operator individually and discussed what they do.\n",
        "\n",
        "> **Link to the Relevant Topic:**\n",
        "\n",
        ">  https://github.com/ernsbzkrt/Quantum-Computing/blob/main/Additional%20Essential%20Functionality/2)StandardMulti%20Qubit%20Gates.ipynb\n",
        "\n",
        "\n"
      ],
      "metadata": {
        "id": "NsO0zctZE3IR"
      }
    }
  ]
}