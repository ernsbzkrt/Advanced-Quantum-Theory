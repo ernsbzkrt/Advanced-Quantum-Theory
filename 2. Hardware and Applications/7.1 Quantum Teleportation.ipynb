{
  "nbformat": 4,
  "nbformat_minor": 0,
  "metadata": {
    "colab": {
      "provenance": []
    },
    "kernelspec": {
      "name": "python3",
      "display_name": "Python 3"
    },
    "language_info": {
      "name": "python"
    }
  },
  "cells": [
    {
      "cell_type": "markdown",
      "source": [
        "*Quantum circuits enable information transmission that is not possible in classical circuits. In this section of our study, we will examine and discuss these circuits. Afterwards, we will delve into an important development in quantum mechanics known as Bell's Inequality. Bell's Inequality elucidates one of the fundamental principles of quantum mechanics and highlights the difference between classical physics and quantum physics.*"
      ],
      "metadata": {
        "id": "BLAFr5Swf7xT"
      }
    },
    {
      "cell_type": "markdown",
      "source": [
        "###**7.1. Quantum Teleportation**\n",
        "\n",
        "Quantum Teleportation does not imply instantly transporting a physical object from one place to another, which is a common misconception. However, it allows us to securely transmit the state of a qubit (quantum information unit) to another location. This is quite intriguing and impressive. The protocol of quantum teleportation demonstrated that we can securely transmit information using the fundamental properties of quantum mechanics. This shows that, unlike classical communication methods, we can leverage the properties of quantum mechanics to ensure the privacy of information.\n",
        "\n",
        "The Quantum Teleportation protocol was developed by scientists like Bennett and Brassard, and it was experimentally confirmed in 1997. This protocol is used to securely transport the state of a qubit from one place to another. However, it is important to note that:\n",
        "\n",
        "- It does not mean physically transporting the qubit. Instead, the state of the qubit is copied from one place to another.\n",
        "\n",
        "Another important point is the use of \"teleportation channel\" in quantum teleportation. The teleportation channel consists of special quantum states known as EPR pairs or Bell states. These states can be used to perform many tasks that cannot be achieved by classical methods.\n",
        "\n",
        "In quantum teleportation, there is typically the transmission of a qubit state between Alice (sender) and Bob (receiver). Three qubits are used for this process: Alice's qubit, Bob's qubit, and an ancilla qubit to create the EPR pair. However, this process works not like transporting physical objects but rather like copying the state of a qubit and transmitting it to another location."
      ],
      "metadata": {
        "id": "mSMivHLlghkN"
      }
    },
    {
      "cell_type": "markdown",
      "source": [
        "#### **7.1.1 The Story of Alice & Bob**\n",
        "\n",
        "**Initial State:**\n",
        "\n",
        "- Alice: Possesses the qubit (quantum information unit) Q that she wants to transmit. This qubit represents a state, such as the direction of an electron's spin.\n",
        "\n",
        "- Bob: The recipient who wants to receive the state of the qubit. However, he cannot directly observe the state of this qubit.\n",
        "\n",
        "**Preparation Stage:**\n",
        "\n",
        "- Alice: Combines the qubit (Q) with another qubit (R) to create an EPR pair. An EPR pair is a special quantum connection between two qubits. Alice applies a Hadamard gate to qubit R to create this pair and then performs a CNOT (control Q, target R) between R and another qubit (S). She then separates this pair to send the S qubit to Bob.\n",
        "\n",
        "- Bob: Receives the S qubit.\n",
        "\n",
        "**Measurement and Transmission:**\n",
        "\n",
        "- Alice: Measures the qubit Q along with qubit R. This measurement is based on Bell states and produces classical information.\n",
        "\n",
        "- Bob: Receives the classical information from Alice.\n",
        "\n",
        "**Final State:**\n",
        "\n",
        "- Bob: Adjusts the state of the S qubit based on the classical information received from Alice. This effectively copies the state of Alice's original qubit. Therefore, the state of the qubit Q is now transferred to the qubit S.\n",
        "\n",
        "- Alice and Bob: Now, Bob has obtained the state of Alice's original qubit. However, during this process, the actual qubit (Q) cannot be physically transmitted or copied."
      ],
      "metadata": {
        "id": "-VXgEFBKgqVH"
      }
    },
    {
      "cell_type": "markdown",
      "source": [
        "####***Quantum Teleportation Example in Qiskit***"
      ],
      "metadata": {
        "id": "kZPyBdzugxhx"
      }
    },
    {
      "cell_type": "code",
      "source": [
        "# 1.\n",
        "from qiskit import QuantumCircuit, transpile\n",
        "from qiskit_aer import Aer\n",
        "from qiskit.visualization import plot_bloch_multivector, plot_histogram\n",
        "from qiskit.quantum_info import Statevector\n",
        "\n",
        "# 2.\n",
        "qc = QuantumCircuit(3, 2)\n",
        "\n",
        "# 3.\n",
        "qc.h(0)\n",
        "qc.barrier()\n",
        "\n",
        "# 4.\n",
        "qc.h(1)\n",
        "qc.cx(1, 2)\n",
        "qc.barrier()\n",
        "\n",
        "# 5.\n",
        "qc.cx(0, 1)\n",
        "qc.h(0)\n",
        "qc.barrier()\n",
        "\n",
        "state_before_measurement = Statevector.from_int(0, 2**3).evolve(qc)\n",
        "plot_bloch_multivector(state_before_measurement).show()\n",
        "\n",
        "qc.measure([0, 1], [0, 1])\n",
        "qc.cx(1, 2)\n",
        "qc.cz(0, 2)\n",
        "\n",
        "# 7\n",
        "simulator = Aer.get_backend('aer_simulator')\n",
        "compiled_circuit = transpile(qc, simulator)\n",
        "job = simulator.run(compiled_circuit, shots=1024)\n",
        "result = job.result()\n",
        "counts = result.get_counts(qc)\n",
        "plot_histogram(counts)\n"
      ],
      "metadata": {
        "colab": {
          "base_uri": "https://localhost:8080/",
          "height": 461
        },
        "id": "JcsIHSNohdxl",
        "outputId": "56ebe6a7-bed2-45e9-b6fa-63abe40c93f7"
      },
      "execution_count": 3,
      "outputs": [
        {
          "output_type": "execute_result",
          "data": {
            "text/plain": [
              "<Figure size 700x500 with 1 Axes>"
            ],
            "image/png": "[encoded data removed]"
          },
          "metadata": {},
          "execution_count": 3
        }
      ]
    }
  ]
}