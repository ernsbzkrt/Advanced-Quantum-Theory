{
  "nbformat": 4,
  "nbformat_minor": 0,
  "metadata": {
    "colab": {
      "provenance": []
    },
    "kernelspec": {
      "name": "python3",
      "display_name": "Python 3"
    },
    "language_info": {
      "name": "python"
    }
  },
  "cells": [
    {
      "cell_type": "markdown",
      "source": [
        "###**1.4. The Physics of Computation**\n",
        "\n",
        "We've discussed two fundamental concepts of Quantum Mechanics, Superposition, and Quantum Entanglement. Now, let's examine another important concept, the notion of **Physical Reality of Information**.\n",
        "\n",
        "Let's begin with a question. Is there a lower bound on how much energy is dissipated during the operation of a basic computing unit? The answer is **yes**, thanks to Landauer, we now refer to this as the **Landauer Limit**.\n",
        "\n",
        "Let's illustrate this with an example. Let's say we have **n bits**. The energy required to erase these **n bits** is **nkT ln2**.\n",
        "\n",
        "* Here, **k** is a constant known as Boltzmann's constant,\n",
        "* **T** represents the temperature of the heat sink surrounding the computing device. This temperature is in Kelvin.\n",
        "* ln2 is the natural logarithm of 2.\n",
        "* **n** is the total number of bits we have.\n",
        "\n",
        "The calculated limit is the minimum amount of energy distributed for an irreversible computation. Landauer acknowledges that this minimum energy doesn't act as a prohibitive factor on the energy consumption of the system.\n",
        "\n",
        "Now let's delve deeper into the concept of **logical irreversibility**. Landauer describes this as a situation where the output of a device doesn't fully specify its inputs. A simpler interpretation of this complex definition is that we might not be able to determine exactly what the inputs were by looking at the output. Later, he pointed out that this logical irreversibility leads to physical irreversibility, which in turn causes energy dissipation. In fact, this idea stems from the familiar Second Law of Thermodynamics in classical physics.\n",
        "\n"
      ],
      "metadata": {
        "id": "dLObqPv06Azp"
      }
    },
    {
      "cell_type": "markdown",
      "source": [
        "----------------------------\n",
        "This law states that the total disorder (entropy) of a system never decreases. Therefore, an irreversible process increases the disorder in a system, leading to energy loss.\n",
        "\n",
        "-------------------------\n",
        "\n",
        "The mentioned irreversible processes are so significant that the operation of today's classical computers generally relies on irreversible operations. For example, the **OR gate**, which we use in today's computers, produces an output when either of its inputs is true (in the states 0-0 or 1-1).\n",
        "\n",
        "Not only the **OR gate** but also the **Exclusive OR (XOR)** gate and the **NAND** gate are examples of irreversible logic gates.\n",
        "\n",
        "After discussing irreversible operations in classical computation, let's take a look at the field of Quantum Computing. Here, too, we are limited to irreversible logical operations. That is, we work with operations that cannot be undone. Reversing irreversible operations is an important topic in Quantum Computing because performing irreversible operations without loss of information is not possible in quantum computation. Therefore, when irreversible operations are performed, information loss occurs, and a measurement is made. In this case, the computation process is completed, and further operations cannot be carried out. Therefore, in quantum computation, it is important to make all operations reversible. This means that operations can be undone without loss of information."
      ],
      "metadata": {
        "id": "dAUimcpl6G1y"
      }
    }
  ]
}