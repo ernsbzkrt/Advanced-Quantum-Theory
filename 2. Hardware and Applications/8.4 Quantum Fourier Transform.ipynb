{
  "nbformat": 4,
  "nbformat_minor": 0,
  "metadata": {
    "colab": {
      "provenance": []
    },
    "kernelspec": {
      "name": "python3",
      "display_name": "Python 3"
    },
    "language_info": {
      "name": "python"
    }
  },
  "cells": [
    {
      "cell_type": "markdown",
      "source": [
        "### **8.4. Quantum Fourier Transform**\n",
        "\n",
        "The Fourier transform is a mathematical tool that separates a signal or data into its different frequency components. Imagine listening to a piece of music; in this piece, there are various notes (frequencies). The Fourier transform is a method that allows us to analyze each of these notes individually.\n",
        "\n",
        "Let's discuss this with a real-life example. Suppose we're listening to a piece of music that contains the sounds of multiple instruments, vocals, and rhythms. Each instrument and sound is a mixture of sound waves at certain frequencies. The Fourier transform dissects this complex audio signal, revealing which frequency components each part contains.\n",
        "\n",
        "So, how does it work? Let's take a music piece as an example. The Fourier transform takes the time-domain waveform of this music piece and expresses it as a sum of simple sinusoidal and cosine waves at different frequencies. Each sinusoidal and cosine wave is a component oscillating at a specific frequency. Therefore, the Fourier transform reveals the components at different frequencies that make up your music.\n",
        "\n",
        "This isn't limited to just music. Let's consider an image. An image is represented as a matrix of pixels. The Fourier transform transforms the distribution of these pixels into components at different frequencies, allowing us to analyze different features of the image. This enables us to gain insights into the edges, patterns, or other characteristics of an image.\n",
        "\n",
        "In summary, the Fourier transform allows us to analyze complex signals, ranging from music to images, by separating them into different frequency components. It's a powerful tool widely used in areas such as audio processing, image processing, signal processing, and many more."
      ],
      "metadata": {
        "id": "H2STtoiYntDI"
      }
    },
    {
      "cell_type": "markdown",
      "source": [
        "#### **8.4.1 How Does QFT Work?**\n",
        "\n",
        "The Quantum Fourier Transform (QFT) is an adaptation of the classical Fourier transform to the world of quantum mechanics. Essentially, it allows a quantum state to be decomposed into its constituent frequency components in a specific superposition. This is used to efficiently solve problems that require complex computations on classical computers in quantum computers.\n",
        "\n",
        "The working principle of QFT involves using a series of quantum gates to decompose quantum states into their frequency components. These quantum gates operate similarly to classical computer logic gates, but leverage the properties of superposition and quantum parallelism of quantum states.\n",
        "\n",
        "For instance, a quantum gate like the Hadamard gate puts a quantum state into a specific superposition, representing a weighted combination of different components of the state. Then, other quantum gates like phase and summation gates are used to transform these frequency components in these superposition states.\n",
        "\n",
        "Perhaps the most significant feature of QFT is its ability to process all frequency components of the input state simultaneously. This is different from the classical Fourier transform where each frequency component is processed separately, often taking time.\n",
        "\n",
        "Utilizing QFT in quantum computers presents a significant potential for solving certain problems in parallel. Particularly, the advantages of QFT are quite evident in fields such as cryptography, optimization, and chemistry. Therefore, QFT is considered a fundamental tool in the world of quantum computing.\n"
      ],
      "metadata": {
        "id": "ZzuqcgdroPnn"
      }
    },
    {
      "cell_type": "markdown",
      "source": [
        "#### **8.4.2 Why is QFT Used?**\n",
        "\n",
        "The Quantum Fourier Transform (QFT) holds a significant position in quantum computers because it forms the basis of many important algorithms. One of the most well-known algorithms based on it is Shor's integer factorization algorithm. However, the usage of QFT is not limited to this algorithm alone; it reveals many potential advantages of quantum computers.\n",
        "\n",
        "**1. Shor's Integer Factorization Algorithm:**\n",
        "\n",
        "It's one of the most notable examples. This algorithm provides a much faster way to factor large numbers into their prime factors than classical computers. Specifically, it has the potential to break cryptographic encryption systems like RSA, which are used in security measures.\n",
        "\n",
        "**2. Quantum Phase Estimation (QPE):**\n",
        "\n",
        "This algorithm is used to precisely measure the phases of quantum states. QPE serves as a fundamental building block for quantum computing algorithms and is used as a subcomponent in many other quantum algorithms.\n",
        "\n",
        "**3. Quantum Machine Learning:**\n",
        "\n",
        "By harnessing the potential of quantum computers, it's possible to speed up machine learning algorithms and create more complex models. QFT enhances the performance of these algorithms by being used in machine learning problems such as quantum data analysis and classification.\n",
        "\n",
        "**4. Optimization Problems:**\n",
        "\n",
        "Optimization problems that are complex for classical computers can be solved more quickly and efficiently in quantum computers. QFT is used as a fundamental tool in solving such optimization problems.\n",
        "\n",
        "These examples demonstrate the broad range of applications of QFT in quantum computers. As a fundamental component of quantum algorithms, QFT plays a significant role in solving many complex problems and unlocks the potential of quantum computers."
      ],
      "metadata": {
        "id": "OJYN57SvonRX"
      }
    },
    {
      "cell_type": "markdown",
      "source": [
        "#### **8.4.3 Advantages of QFT**\n",
        "\n",
        "The Quantum Fourier Transform (QFT) is faster and more efficient than the classical Fourier transform, making it highly effective for certain types of computations.\n",
        "\n",
        "**Let's delve into these advantages in more detail:**\n",
        "\n",
        "**1. Parallel Processing Capability**\n",
        "\n",
        "In quantum computers, QFT offers the ability to process all frequency components of the input data simultaneously. This differs from operations on traditional computers where each frequency component of the input data is processed sequentially. The parallel processing capability of QFT provides a significant advantage in solving problems related to large datasets or complex computations.\n",
        "\n",
        "**2. Fast Computation:**\n",
        "\n",
        "In quantum computers, QFT can perform certain computations much faster. While complex computations such as factoring large numbers typically take a long time on classical computers, QFT can significantly accelerate such computations. This feature enhances the performance of many important algorithms used in cryptography, optimization, and chemistry.\n",
        "\n",
        "**3. Efficiency and Memory Usage:**\n",
        "\n",
        "In quantum computers, QFT can perform more operations using fewer resources. This allows quantum computers to utilize their limited resources more efficiently. Additionally, integration of QFT with quantum memory structures can optimize data storage and processing processes, creating a more efficient system.\n",
        "\n",
        "**4. Precision and Accuracy:**\n",
        "\n",
        "QFT provides higher precision and accuracy in certain problems. Particularly in fields like quantum chemical simulations, QFT's precise frequency analysis capabilities enable us to obtain more accurate results. This is of great importance in areas such as drug design, materials science, and molecular modeling.\n",
        "\n",
        "These advantages make the use of QFT in quantum computers more appealing, offering the potential to solve many complex problems faster, more efficiently, and more accurately."
      ],
      "metadata": {
        "id": "lHFbmYyTpO3u"
      }
    },
    {
      "cell_type": "markdown",
      "source": [
        "**Let's do an example with the QFT algorithm now.**"
      ],
      "metadata": {
        "id": "Uc_iBL1npeEG"
      }
    },
    {
      "cell_type": "code",
      "source": [
        "from qiskit import QuantumCircuit, transpile, assemble\n",
        "from qiskit_aer import Aer\n",
        "import numpy as np\n",
        "\n",
        "def qft_circuit(n):\n",
        "    qc = QuantumCircuit(n)\n",
        "    for j in range(n):\n",
        "        for k in range(j):\n",
        "            qc.cp(np.pi / float(2 ** (j - k)), k, j)\n",
        "        qc.h(j)\n",
        "    return qc\n",
        "\n",
        "# Number of qubits\n",
        "n = 3\n",
        "qc = qft_circuit(n)\n",
        "\n",
        "# Reverse the qubits (optional, but often needed for QFT)\n",
        "qc = qc.reverse_bits()\n",
        "\n",
        "# Measurement\n",
        "qc.measure_all()\n",
        "\n",
        "# Use Aer's aer_simulator\n",
        "simulator = Aer.get_backend('aer_simulator')\n",
        "\n",
        "# Execute the circuit on the qasm simulator\n",
        "job = simulator.run(qc, shots=1000)\n",
        "simulator = Aer.get_backend('qasm_simulator')\n",
        "\n",
        "# Grab the results from the job\n",
        "result = job.result()\n",
        "\n",
        "# Returns counts\n",
        "counts = result.get_counts(qc)\n",
        "print(\"\\nTotal count for 00, 01, 10 and 11 are:\",counts)\n",
        "\n",
        "# Draw the circuit\n",
        "print(qc)"
      ],
      "metadata": {
        "colab": {
          "base_uri": "https://localhost:8080/"
        },
        "id": "5MbmtT5hppFC",
        "outputId": "5a488497-6da8-479e-f9d3-de90f853bbb7"
      },
      "execution_count": 5,
      "outputs": [
        {
          "output_type": "stream",
          "name": "stdout",
          "text": [
            "\n",
            "Total count for 00, 01, 10 and 11 are: {'010': 113, '000': 112, '101': 118, '111': 146, '011': 134, '100': 130, '110': 119, '001': 128}\n",
            "                                             ┌───┐ ░ ┌─┐      \n",
            "   q_0: ────────────────────■────────■───────┤ H ├─░─┤M├──────\n",
            "                      ┌───┐ │        │P(π/2) └───┘ ░ └╥┘┌─┐   \n",
            "   q_1: ──────■───────┤ H ├─┼────────■─────────────░──╫─┤M├───\n",
            "        ┌───┐ │P(π/2) └───┘ │P(π/4)                ░  ║ └╥┘┌─┐\n",
            "   q_2: ┤ H ├─■─────────────■──────────────────────░──╫──╫─┤M├\n",
            "        └───┘                                      ░  ║  ║ └╥┘\n",
            "meas: 3/══════════════════════════════════════════════╩══╩══╩═\n",
            "                                                      0  1  2 \n"
          ]
        }
      ]
    },
    {
      "cell_type": "markdown",
      "source": [
        "Let's discuss this output a bit.\n",
        "\n",
        "* First, the code is executed with 1000 shots. This means the circuit is run 1000 times, and a result is obtained each time a measurement is made.\n",
        "\n",
        "* This output shows a distribution of measurement results. Numbers like X, Y, and Z indicate how many times a specific measurement result was observed.\n",
        "\n",
        "* This output illustrates the distribution of measurement results obtained in each shot of the quantum circuit. To analyze the output, let's first consider the number of qubits in the circuit and their initial states. The outputs are from a 3-qubit Quantum Fourier Transform circuit. The measurements of these qubits resulted in the following:\n",
        "\n",
        "  - 113 measurements were made for the '010' state.\n",
        "  - 112 measurements were made for the '000' state.\n",
        "  - 118 measurements were made for the '101' state.\n",
        "  - 146 measurements were made for the '111' state.\n",
        "  - 134 measurements were made for the '011' state.\n",
        "  - 130 measurements were made for the '100' state.\n",
        "  - 119 measurements were made for the '110' state.\n",
        "  - 128 measurements were made for the '001' state.\n",
        "\n",
        "Each result is a three-digit binary number representing the states of the qubits. For example, in the '000' state, all qubits are 0, while in the '110' state, the first two qubits are 1, and the third qubit is 0.\n",
        "\n",
        "These results represent the probability distributions created by the circuit in superposition due to the Quantum Fourier Transform. In such results, each output state is measured with a certain probability.\n"
      ],
      "metadata": {
        "id": "Hf4B--u8p4jW"
      }
    }
  ]
}