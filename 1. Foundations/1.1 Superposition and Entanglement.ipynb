{
  "nbformat": 4,
  "nbformat_minor": 0,
  "metadata": {
    "colab": {
      "provenance": []
    },
    "kernelspec": {
      "name": "python3",
      "display_name": "Python 3"
    },
    "language_info": {
      "name": "python"
    }
  },
  "cells": [
    {
      "cell_type": "markdown",
      "source": [
        "*Welcome to the initial steps of this detailed discussion on quantum mechanics. This section focuses on laying the groundwork for a deeper understanding of quantum mechanics. In the following sections, we will delve into quantum mechanics more extensively and establish the theoretical foundation necessary for quantum computations.*"
      ],
      "metadata": {
        "id": "vBl1clSH0X3H"
      }
    },
    {
      "cell_type": "markdown",
      "source": [
        "# **1. Superposition, Entanglement, and Reversibility**\n",
        "\n",
        "Here we'll focus on a fundamental question. What are quantum computers? To answer this question, quantum computers will be explained by focusing on the fundamental features that distinguish them from classical computers. This explanation will be within the scope of quantum mechanics (QM), quantum information theory (QIT), and computer science (CS).\n",
        "\n",
        "> **What is the definition of Quantum Mechanics?**\n",
        "\n",
        "> Quantum computers are devices designed to perform computations using specific properties of quantum mechanics.\n",
        "\n",
        "Every classical (i.e., non-quantum) computer can be explained by quantum mechanics because quantum mechanics forms the foundation of the physical universe. However, a classical computer does not leverage specific features and states provided by quantum mechanics while performing computations.\n",
        "\n",
        "Before discussing the advantages that quantum computers provide us, it is essential to understand and discuss several fundamental concepts. These are:\n",
        "\n",
        "* How do we represent the superposition of states in a quantum system?\n",
        "* What is quantum entanglement?\n",
        "* What is the connection between reversibility, computation, and physical systems?"
      ],
      "metadata": {
        "id": "FMmnj1uE0X1I"
      }
    },
    {
      "cell_type": "markdown",
      "source": [
        "**1.1. Superposition, Entanglement**\n",
        "\n",
        "**a. Superposition**\n",
        "\n",
        "According to the principles of quantum mechanics, a system transitions to a specific state only when measured. Before measurement, the system exists in a state of uncertainty; that is, the system is considered as a mixture of multiple possible states. For example, when measuring the spin of an electron, it can be said that before measurement, the electron has a probability of being in either an \"up\" or \"down\" spin state. However, upon measurement, a definite state of the electron's spin, either \"up\" or \"down,\" is obtained.\n",
        "\n",
        "The Dirac notation is a mathematical formalism used to represent states in quantum mechanics. In this notation, a state is typically represented using \"ket\" notation. For example, j0i and j1i represent the \"0\" and \"1\" states, respectively, of a particular system. These states are the possible states of the system before measurement.\n",
        "\n",
        "The concept of superposition signifies that multiple states can coexist in a system simultaneously. This condition is expressed as a linear combination of states. For example, before measurement, a system can exist as a combination of the j0i and j1i states. This condition can be expressed as \"a * j0i + b * j1i,\" where \"a\" and \"b\" determine the coefficients, and it should be noted that the sum must be equal to 1. This condition indicates that the system is in an uncertain state before measurement."
      ],
      "metadata": {
        "id": "ROagkkfL0XzJ"
      }
    },
    {
      "cell_type": "markdown",
      "source": [
        "\n",
        "  ![Capture.PNG](data:image/png;base64,iVBORw0KGgoAAAANSUhEUgAAAIwAAAA5CAYAAADkx8P4AAAAAXNSR0IArs4c6QAAAARnQU1BAACxjwv8YQUAAAAJcEhZcwAADsMAAA7DAcdvqGQAAAYcSURBVHhe7ZvfS1tnGMfPH5CbXnohCFLwQigivegQ0YuWQaCW3og3QctGla20N4spzPYmcawpOGFtLkZwk5Zlg9CW1C6spp0daFkDZqxC06mdnWZoateQBq1Jz3fvm5zamB/2vGcmPefk+cAL5pwY8n3zOe/7vO9JJBCEACQMIQQJQwhBwhBCkDCEECQMIQQJQwhBwhBCkDCEECQMIQQJQwhBwhBCVFcYOYHFO17YrV1wh5PKwdpBTs7jjncQ1lY3wmnloMGoojAJzAWu4qrbhjqpo/aESc0hMDYGt60ZUiMJo5p02I3GWhQmSxJhdwcJIwIJQ8IIQcKQMEKQMCSMECQMCSMECUPCCEHCkDBCkDAkjErSiEcm4DndDkmqQ4f9G0xE1iArZ02PvIbIzcs4fXAfy38Edu8tROLGs6bqI8z/J42Y/yQa3WH21+7IMT96688ilHitHDEDT+G3WQtG6AySi3fhtXehNa9fyuWXJO0fuzmESa9g2mPHgMuL7y+fRf/5a4gmM6zHFuHr6YA9FFeeaAYKhZGRmpvA2NULsNVJO/ulTP4aFyaF+fE+1Pf5sZKd316wOsGKg+d+wXP5FZZ8J1BvDyGRfa56MlEfTrnv4bnyWD+UGmEY6TDcjQXCoHT+2hYmNQ1ncyO6fU+UekjG5owLDZYT8C29grzkQ4+GaSlbnNv8iCmP9YOIMKw3SuSvaWEykVG0SG1wzrzInWbIT33olppwMrCiDMtWdv5f5aw6zCJMqfw1LEzub6lwmc6KPRvrlNxz+LD8EQ44p9nkpR7TCFMivy6E4W+iEq0YtcJY0DIaYesHfpGNo6t5GDMp9Yt4UWFKvfe9aMWIClOcv/TrqmPPhKkeO6ek3EbgzikpJ4wyJTGy8/iBXYTJRDDaYin6sIrb29d8f2gQpiA/z6IVwwuDxBSGmvKLXkUipeh9s1JoGLqHl7nTqjDXlLQzf20LU7Ssfok5Tw86Xb+yZTV7qHEvxjTClMhvWGHkWFAZ6su3YgqFYeRv3HnO44w7hFg6N97odVmtJjtvxRQLI8cjuOk5jYP8fzrs8E5EEFeGWxMtq/kGWzf6A8uC95NKCFOW0htXaqisMFqzc8qMMCUpnd+QwsjrQZxpv4jwdiG6iXh0FuFo/B0iCAgjLyPQf0TTrYHXT0O45ItAzcciSnF2RjqOaHgW0fimcqAcAsKUyW9AYVKIevtwfPwxXrNrLB2bhOtokzIMW7C/ewRTsXIdp14YeTWA/gbx6aiy5GfnbCIW+hJHG9+s0g6g2313e0otRr0w5fIbTxi+nd8+hNA6v0G4ipDjJJzBeST5D92Cw7BaLGgamhKeRgxBfnaGvD4JR88XCC4msj90CzqPwSK1Yejes+z5SmAwYbaw4v8U7aOzbIZlpGbx4/U/2dE3xBGytxr6S0blKcjORtdU+AauL+TtQSdCsBfeddYR1Rdm6w94PjwF/8pbRXbyAjPONuzrD2BVvCLUN+/MzticgbOhWWNBXHmqLEwG66EhtO023aR+g/tQOwZDq7rsMO2oyJ4dcS7iUNPn21OW3qiQMDI2/v4L/xQWbvIS/Cc+hjda7jbgBlsGDuADx22sGdYWrdkZ6Xn4ervgCMV0e7FUQJgMkg+/Re/+VvT5HufVJrmrp217R7YQGVsLP+CTge/wkH9bzpBozc5JYcE3iAHv76z4Vw7pkD0WhnfYFTicl/BVbwukfTZ4HynLP74aGuxly8G8m4Tb8KX1bQw7rhhcFi3ZOWxpPTkCx5i+ZeHssTBsOF5exjOZCbDkR/9+CyyHR/AgkcFW1Itjx8exULQlwmX5Gee6BuCZvI9wOMzaA8zc+hrD15bYWaOgJTuHy+JEV99lTD7g2Xmbxq2LI7i2W3H8nqhg0ZvGanAQTVI9Ol038NOF3pKFrLx2F+c765VNq7xW9xmCOi383o267Px5a1MudFoKsrNWdyaIdR1eLRUUhiHHMe2ywsI74VDBVrjZMWn2ygrDkBP34T7MikC/kaaXvcGM2SsuDOs2bDx5hCcbtaYLx3zZqyAMYSZIGEIIEoYQgoQhhCBhCCFIGEIIEoYQgoQhBAD+A1+jwOE91iHyAAAAAElFTkSuQmCC)\n",
        "\n",
        "  If a system is in superposition between two states, these states can be represented as |0⟩ and |1⟩. In this case, the superposition state is expressed as a |0⟩ + b |1⟩, where \"a\" and \"b\" are coefficients representing the uncertain state of the system, and a^2 + b^2 = 1 must hold. This formula is the fundamental mathematical expression of superposition."
      ],
      "metadata": {
        "id": "CJhqzDmN0XxH"
      }
    },
    {
      "cell_type": "markdown",
      "source": [
        "The **Principle of Superposition** states that the linear combination of two or more state vectors forms another state vector in the same Hilbert Space, representing another state of the system. In other words, the system can exist in a combination of multiple states, and these states can be linearly combined. Thus, different states of the system can be described.\n",
        "\n",
        "To clarify with an example, let's consider a particle. This particle can inherently have spin in either the up or down direction. In a superposition state, this particle can exist in both up and down spin states simultaneously. These states can be expressed by mixing them in certain proportions. The mathematical expression representing this mixture explains the different states in the system.\n",
        "\n",
        "Another example we can provide is light. Light has an inherent property called polarization, and we can demonstrate the superposition of states using this property. For almost all light we encounter in daily life - for instance, sunlight - there is no preferred direction for polarization. Polarization states can be selected using a thin film called a polarization filter, which allows only light polarized along the axis of the film to pass through."
      ],
      "metadata": {
        "id": "bYv_WMqp0Xu_"
      }
    },
    {
      "cell_type": "markdown",
      "source": [
        "**b. Entanglement**\n",
        "\n",
        "This topic is more understandable compared to superposition. The term \"Entanglement\" is used when there is a specific relationship between the states of two or more particles. In quantum mechanics, entanglement expresses the relationship between interconnected or interacting particles.\n",
        "\n",
        "Entanglement can arise when there is an instantaneous interaction between particles, and in such cases, the state of one particle can affect the state of another, or they can be correlated when they possess certain properties.\n",
        "Entanglement is a fundamental feature of quantum mechanics and is used to describe the correlation between two or more particles. This correlation can indicate a certain type of interaction or relationship between the particles.\n",
        "\n",
        "Let's examine this topic with the example of EPR pairs (Einstein-Podolsky-Rosen pairs).\n",
        "\n",
        "In this system, there are two particles that are entangled with each other. For example, it could be an electron-positron pair, a pair of photons, or other quantum particles.\n",
        "\n",
        "EPR pairs are specially prepared to demonstrate their entanglement. When two particles, such as an electron and a positron, are created as a result of an interaction, their states can be correlated in a specific way. This does not mean that the state of one particle directly affects the state of the other, but it indicates that there is a relationship between these particles.\n",
        "\n",
        "Entanglement becomes evident when we measure the properties of these particles. For instance, when we measure the spin of one particle, we may observe that the spin of the other particle is immediately determined, even if these two particles are far apart. This situation might suggest some sort of instant communication or connection between the particles. Entanglement is an important concept that helps us understand how such situations occur within quantum mechanics."
      ],
      "metadata": {
        "id": "hM0qARXA0Xs4"
      }
    },
    {
      "cell_type": "markdown",
      "source": [
        "The concept of entanglement also has a mathematical representation, much like superposition. This is typically expressed through specific equations or relationships, such as Bell scenarios or CHSH (Clauser-Horne-Shimony-Holt) inequalities.\n",
        "\n",
        "- For example, Bell scenarios are a set of inequalities that limit the maximum value of an entanglement measurement. These inequalities define the boundaries of entanglement in quantum mechanics and help determine whether there is a certain type of correlation between measurements.\n",
        "\n",
        "- The CHSH inequality is a more precise test of entanglement in quantum mechanics. This inequality compares the measured correlation between two systems with the correlation expected from a classical system. If this inequality exceeds the bounds of a classical system, it can serve as an indicator of entanglement consistent with quantum mechanics."
      ],
      "metadata": {
        "id": "-xPBVO7H0Xqn"
      }
    },
    {
      "cell_type": "markdown",
      "source": [
        "**c. Reversibility**\n",
        "\n",
        "In quantum theory, \"reversibility\" refers to the ability of a process occurring in a system to be reversed by its exact opposite process. In classical physics, according to the second law of thermodynamics, many processes are naturally irreversible, meaning they cannot be reversed. However, in quantum mechanics, the concept of reversibility is treated differently in certain cases.\n",
        "\n",
        "In quantum mechanics, many fundamental processes are actually reversible. For example, the evolution of a quantum state is generally reversible. When a system is in a superposition, it can transition to a specific state when measured, but this transition is not irreversible. Particularly, the evolution of a system according to the Schrödinger equation is a reversible process. This is used to understand how the state of a system changes over time.\n",
        "\n",
        "However, in some special cases, especially when a measurement is made, the process is irreversible. Measurement is performed to determine the state of a system in a specific way, and this state cannot be reversed. The evolution of a quantum state after measurement typically involves a transition from a superposition to a specific state, and this process is irreversible.\n",
        "\n",
        "Therefore, the concept of reversibility in quantum theory includes the idea that the evolution of a system is generally reversible except for specific instances like measurement. However, under certain conditions, some processes may be irreversible.\n",
        "\n",
        "The reversibility of the evolution in a system is generally expressed using the Schrödinger equation. If the Hamiltonian operator of a system is not time-dependent (i.e., 𝐻^ = 𝐻^(𝑡) is not the case), then the evolution in the system is reversible. In this case, we can reverse the evolution and return to the initial state of the system.\n",
        "\n",
        "However, when a measurement is made, the process is irreversible, and this is mathematically expressed by the projections of the measurement operator. The post-measurement state is determined according to the appropriate projection of the measurement operator, and therefore it cannot be reversed. This is one of the fundamental properties of measurement in quantum mechanics."
      ],
      "metadata": {
        "id": "KAaTwyY34DNS"
      }
    }
  ]
}