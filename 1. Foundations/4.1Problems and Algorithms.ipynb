{
  "nbformat": 4,
  "nbformat_minor": 0,
  "metadata": {
    "colab": {
      "provenance": []
    },
    "kernelspec": {
      "name": "python3",
      "display_name": "Python 3"
    },
    "language_info": {
      "name": "python"
    }
  },
  "cells": [
    {
      "cell_type": "markdown",
      "source": [
        "#**4. Complexity Theory**"
      ],
      "metadata": {
        "id": "bezb1ufwGu8I"
      }
    },
    {
      "cell_type": "markdown",
      "source": [
        "Complexity Theory, briefly, is a field in computer science and mathematics that studies the complexity of problems such as computability and solvability. This theory focuses on determining how much time and resources an algorithm or problem-solving process will require. It often involves analyzing the performance of an algorithm based on the size of the problem or input."
      ],
      "metadata": {
        "id": "8CL2KuwjFtvx"
      }
    },
    {
      "cell_type": "markdown",
      "source": [
        "### **4.1. Problems and Algorithms**\n",
        "\n",
        "Let's start by posing a question on the subject:\n",
        "* **What is the difference between algorithms and programs?**\n",
        "\n",
        "Let's immediately provide a **computational problem** as an example.\n",
        "* **Sort x numbers in ascending numerical order within a dataset**\n",
        "\n",
        "To solve the above computational problem, we can analyze different algorithms. For example, quicksort, mergesort, insertion sort, etc. An algorithm is a hardware-independent method of solving a computational problem. Nowadays, developers typically strive to find or develop algorithms that can efficiently solve a problem. A program, on the other hand, is a specific implementation of an algorithm in a particular programming language. It's the applied version of the algorithm. Despite their seeming similarity, they are not the same.\n",
        "\n",
        "Algorithms can be analyzed and improved, thus enhancing applications or programs. But how? In short, through the analysis and optimization of algorithms.\n",
        "\n",
        "The analysis of algorithms involves examining the resources required for executing an algorithm. We can classify algorithms into different computational complexities both in terms of time (number of steps) and space (amount of memory) required for execution.\n",
        "\n"
      ],
      "metadata": {
        "id": "diUifbw7FtyR"
      }
    }
  ]
}