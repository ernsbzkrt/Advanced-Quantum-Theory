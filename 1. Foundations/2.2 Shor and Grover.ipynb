{
  "nbformat": 4,
  "nbformat_minor": 0,
  "metadata": {
    "colab": {
      "provenance": []
    },
    "kernelspec": {
      "name": "python3",
      "display_name": "Python 3"
    },
    "language_info": {
      "name": "python"
    }
  },
  "cells": [
    {
      "cell_type": "markdown",
      "source": [
        "### **2.2. Shor and Grover**\n",
        "\n",
        "**a. Shor**\n",
        "\n",
        "Peter Shor, a researcher in the mathematics division of Bell Labs, examined the work of Deutsch, Bernstein and Vazirani, and Simon, and realized he could construct an algorithm to factor large numbers into two prime factors.\n",
        "\n",
        "While factoring large numbers is considered an intractable problem on a classical computer, Shor's factoring algorithm runs quickly on a quantum computer and can reach a solution. The idea of factoring large numbers is at the heart of public-key cryptography implemented in the RSA Algorithm, which forms the basis of all internet communications. This problem lies at the center of many crucial and confidential matters today, such as securely sending credit card numbers, making bank payments, and ensuring the security of online communication systems."
      ],
      "metadata": {
        "id": "nHjKv2990SHM"
      }
    },
    {
      "cell_type": "markdown",
      "source": [
        "------------------------------\n",
        "\n",
        "**RSA-Based Encryption** relies on the one-way difficulty of factoring large numbers into two prime factors. While it's nearly impossible to solve when using classical computers, the solution can be quite simple and fast for quantum computers.\n",
        "\n",
        "------------------------------"
      ],
      "metadata": {
        "id": "PlBVZsVq027h"
      }
    },
    {
      "cell_type": "markdown",
      "source": [
        "As a mathematician, Peter Shor was pondering over the problem of factoring large numbers into their prime factors, which forms the basis of cryptographic systems like the RSA algorithm and is crucial for ensuring secure communication over the internet.\n",
        "\n",
        "Shor knew that classical computers would struggle to solve this problem, but he realized that quantum computers could solve such problems much faster. He drew inspiration from Simon's work and demonstrated that it was possible to use quantum computers to solve this problem.\n",
        "\n",
        "Moreover, using a method called the quantum Fourier transform (QFT) pioneered by Bernstein-Vazirani, he found a way to perform the necessary computations in quantum computers. This meant that quantum computers could produce the desired results more reliably.\n",
        "\n",
        "Shor's discovery showed that quantum computers could be very powerful in the future and paved the way for many researchers to work in this area. Initially, in 2001, scientists successfully applied Shor's algorithm on a nuclear magnetic resonance (NMR) system, demonstrating the potential of quantum computers."
      ],
      "metadata": {
        "id": "ccCUO_rd0245"
      }
    },
    {
      "cell_type": "markdown",
      "source": [
        "**b. Grover**\n",
        "\n",
        "Peter Shor'dan sonra, Lov Grover, bir kuantum bilgisayarında arama algoritmalarını daha hızlı gerçekleştirebileceğini gösterdi. Grover'in algoritması, Shor'un algoritmasından önemli bir farkla, sadece karesel hızlanma sağlar. Bu, Shor'un yaptığı gibi üstel bir hızlanma değildir, ancak yine de önemlidir.\n",
        "\n",
        "**Karesel hızlanma nedir?** Bir algoritmanın klasik bir bilgisayarda **O(n)** adımlarında çalıştığı durumda, aynı hedefe bir kuantum bilgisayarında **O kök içinde N** adımda ulaşabileceği anlamına gelir.\n",
        "\n",
        "Bu araştırmalar yapılırken, kuantum bilgisayarlarının fiziksel olarak nasıl yapılabileceği üzerine çalışmalar da devam ediyordu. Örneğin, Yasunobu Nakamura, işlevsel ve kontrol edilebilir süperiletken kubitlerin ilk örneklerini geliştirdi ve bu da kuantum bilgisayarlarının gelişmesine katkıda bulundu. Ayrıca, iyonları tuzaklamak ve manipüle etmek suretiyle kuantum bilgisayarlarını gerçekleştirmenin başka bir yolu da önerildi. Cirac ve Zoller, bu yöntemi önerdiler ve bu da kuantum hesaplamanın farklı bir yolunu sundu."
      ],
      "metadata": {
        "id": "CWMwl-0a1CKr"
      }
    },
    {
      "cell_type": "markdown",
      "source": [],
      "metadata": {
        "id": "L74XMBu01CF7"
      }
    }
  ]
}