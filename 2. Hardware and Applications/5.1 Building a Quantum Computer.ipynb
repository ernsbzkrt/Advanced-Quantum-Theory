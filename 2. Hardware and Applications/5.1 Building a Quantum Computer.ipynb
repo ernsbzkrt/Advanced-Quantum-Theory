{
  "nbformat": 4,
  "nbformat_minor": 0,
  "metadata": {
    "colab": {
      "provenance": []
    },
    "kernelspec": {
      "name": "python3",
      "display_name": "Python 3"
    },
    "language_info": {
      "name": "python"
    }
  },
  "cells": [
    {
      "cell_type": "markdown",
      "source": [
        "# **5. Building a Quantum Computer**\n",
        "\n",
        "*In this section, we will discuss how quantum computers work physically. There are different architectures and gate-based quantum computer designs, each with its own advantages and disadvantages. We will discuss and explore these in this section.*\n",
        "\n",
        "*Although quantum computers are exciting, they still require a series of classical computers for system control. For instance, a quantum computer with superconducting qubits is controlled by a traditional computer. We use high-level programming languages to perform operations in the quantum circuit. When measurements are made, the output of the quantum computer is obtained as classical information, which is then transferred back to a classical computer for further processing.*\n",
        "\n",
        "*We can think of quantum computers as part of a much larger computation. Therefore, we can refer to them as a kind of \"quantum processing unit.\" And in the future, these quantum processing units will work alongside traditional processors to complete complex computational tasks.*"
      ],
      "metadata": {
        "id": "LkzQgfSXhoiv"
      }
    },
    {
      "cell_type": "markdown",
      "source": [
        "### **5.1. Compiling a Quantum Computer**\n",
        "\n",
        "Let's say we've built a quantum computer. But how do we evaluate it? Since we can't compare it with classical computers, we need an evaluation checklist. In this section, we'll examine exactly those.\n",
        "\n",
        "* **1. Universality:**\n",
        "\n",
        "The first thing to look at to determine how functional a quantum computer is, is its Turing completeness or universality. In other words, can it solve any computation problem? For instance, it's crucial that the qubits in a particular system can be individually accessed. This is necessary to perform various quantum computation tasks.\n",
        "\n",
        "* **2. Fidelity:**\n",
        "\n",
        "This measures how long a qubit can remain stable. If a qubit has a low error rate, meaning it's highly stable, then it's more reliable. Particularly, seeing how long a qubit remains coherent during a computation is important because maintaining the stability of qubits during computations can be challenging.\n",
        "\n",
        "* **3. Scalability:**\n",
        "\n",
        "It's important how large a quantum computer can grow. Can it support a million qubits or more? This means increasing the processing power necessary to perform complex computations. Thus, it indicates whether it's a suitable platform for large and complex computations.\n",
        "\n",
        "* **4. Qubits:**\n",
        "\n",
        "As important as the number of qubits is how they function. Particularly, it's important if a qubit can interact with other qubits and how these interactions are managed. Additionally, preventing unwanted interactions between qubits (like cross-talk) is crucial.\n",
        "\n",
        "* **5. Circuit Depth:**\n",
        "\n",
        "This determines how complex a quantum circuit can be. The more operations can be applied, the more complex computations can be performed. Therefore, the depth of a quantum computer's circuit is an indicator of how complex computations it can perform.\n",
        "\n",
        "* **6. Logical Connectivity:**\n",
        "\n",
        "Can we apply two-qubit gates on any pair of qubits, or is it only possible for specific pairs? This determines which qubits can interact in quantum computers. For example, in some systems, it may not be possible to enable interaction between any two qubits. In such cases, we may need to simulate broader connectivity using logical SWAP operations in our algorithms. However, these additional operations can potentially result in more noise and error risks.\n",
        "\n",
        "* **7. Cloud Access:**\n",
        "\n",
        "It's important for the hardware of quantum computers to be easily accessible via the cloud. Because most organizations prefer to take advantage of cloud-based services rather than purchasing or setting up their own quantum computers. The advantages of cloud-based access include shorter reset times between computations and reduced workforce required to meet the service level agreement (SLA) of the platform. This allows organizations to easily leverage quantum computing power.\n",
        "\n",
        "*All of these evaluation metrics are crucial to assess how effective quantum computers really are.*"
      ],
      "metadata": {
        "id": "NvclDLD2hp7X"
      }
    }
  ]
}