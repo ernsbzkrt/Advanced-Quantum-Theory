{
  "nbformat": 4,
  "nbformat_minor": 0,
  "metadata": {
    "colab": {
      "provenance": []
    },
    "kernelspec": {
      "name": "python3",
      "display_name": "Python 3"
    },
    "language_info": {
      "name": "python"
    }
  },
  "cells": [
    {
      "cell_type": "markdown",
      "source": [
        "### **1.2. The Born Rule**\n",
        "\n",
        "In 1926, Max Born's paper showed that the square of the magnitude of a quantum state represents the probability of that state occurring after a measurement. In other words, the square of the magnitude of a state represents the probability of it being realized after measurement. For example, if the magnitude of a state is 1/√2, the probability of obtaining this state can be calculated as |1/√2| squared, which equals 1/2. This indicates that the probability of light being in a vertical or horizontal polarization state after measurement is 50%.\n",
        "\n",
        "Another important point is that we choose the magnitude to be 1/√2 to normalize the states. This means that the sum of the squares of the amplitudes will be one. This helps us understand how amplitudes are related to measurement probabilities through the Born rule. In this way, the sum of the squares of the amplitudes is always 1, allowing us to accurately calculate probabilities.\n",
        "\n",
        "Now let's focus on two points:\n",
        "\n",
        "* Choosing the magnitude as 1/√2 to normalize the states,\n",
        "* Ensuring the sum of the squares of the amplitudes is 1.\n",
        "\n",
        "**Choosing the magnitude as 1/√2 to normalize the states**\n",
        "\n",
        "In quantum mechanics, there are wave functions that describe the possible states in a system. The sum of the squares of these wave functions must be 1, indicating that the system must be in a certain state. Therefore, the magnitudes of the wave functions are normalized to ensure that the total probability of all states in the system adds up to 1. Choosing the magnitude as 1/√2 in this case is a normalized state that equalizes the probability of a state to 50%.\n",
        "\n",
        "**Ensuring the sum of the squares of the amplitudes is 1**\n",
        "\n",
        "The wave function of a quantum system is typically expressed as a linear combination of a series of states. The probabilities of these states are determined by the square of each amplitude. Thus, the sum of the probabilities of all states is the sum of the squares of the amplitudes. This sum must be 1 because the probability of the system being in a certain state is 100%.\n",
        "\n",
        "These points are important because normalized amplitudes and the Born Rule make quantum mechanics equations and experimental results consistent. Normalization is one of the fundamental principles of quantum mechanics and is necessary to accurately calculate the total probability of the system's possible states. Thus, following these steps is important to obtain accurate results."
      ],
      "metadata": {
        "id": "cqUtOBWT4hLJ"
      }
    },
    {
      "cell_type": "markdown",
      "source": [
        "The Born Rule, expressed more clearly:\n",
        "\n",
        "\"In the superposition of states, the square of the magnitude of a state indicates the probability of that state occurring after measurement. Furthermore, the sum of the squares of the magnitudes of all possible states in superposition is equal to 1. Therefore, for a state |ψ⟩ = a|0⟩ + b|1⟩, the relationship |a|² + |b|² = 1 holds.\"\n",
        "\n",
        "Now, let's delve a bit deeper.\n",
        "\n",
        "The notion of \"superposition\" mentioned in the definition is crucial in Quantum Mechanics. \"Superposition\" of a state means that in quantum mechanics, a system can simultaneously exist in multiple states. For example, a particle can move both to the right and to the left at the same time. The \"magnitude squared\" of a state represents the probability of that state occurring after measurement. It indicates the probability of finding a particle in a specific location, for example, within a box. The \"magnitude\" refers to the size or significance of a state.\n",
        "\n",
        "The statement also emphasizes that the sum of the squares of the magnitudes of all possible states in superposition must equal 1. This implies that the total probability of all possible states of a quantum system must be equal to 1. This means that the total probability of finding a quantum system in any location should add up to 100%. For example, the sum of the probabilities of a particle being in one box and simultaneously in another box must be 100%.\n",
        "\n"
      ],
      "metadata": {
        "id": "9k6HghK34hJa"
      }
    }
  ]
}