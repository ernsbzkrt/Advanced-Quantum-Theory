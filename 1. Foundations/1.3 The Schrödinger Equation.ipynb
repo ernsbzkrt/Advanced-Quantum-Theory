{
  "nbformat": 4,
  "nbformat_minor": 0,
  "metadata": {
    "colab": {
      "provenance": []
    },
    "kernelspec": {
      "name": "python3",
      "display_name": "Python 3"
    },
    "language_info": {
      "name": "python"
    }
  },
  "cells": [
    {
      "cell_type": "markdown",
      "source": [
        "### **1.3. The Schrödinger Equation**\n",
        "\n",
        "As mentioned earlier, we can represent the state of a system using the **Dirac notation** with a state vector.\n",
        "\n",
        "Let's say we have a photon that is in a superposition state. When we want to measure the polarization of this photon, vertical and horizontal polarization states are equally probable. According to the Copenhagen interpretation (*this approach is a framework that developed and formulated the fundamental principles and interpretations of quantum mechanics. Niels Bohr, Werner Heisenberg, and Max Born are famous representatives*), when a measurement is made, the wave function of the photon collapses to either a vertical or horizontal polarization state.\n",
        "\n",
        "If we can represent the state of the system with a wave function, how do we represent its evolution over time?\n",
        "\n",
        "Let's answer this question with an example. Consider a particle moving freely in space. The position of this particle changes over time because it is in motion. Therefore, the wave function needs to be expressed as a function of both position and time. We formulate this wave function as **ψ(x, t)**.\n",
        "\n",
        "* Here, **x** represents the position of the particle,\n",
        "* Here, **t** represents time.\n",
        "\n",
        "So, our equation represents the probability of finding the particle at a specific position and time. One way to describe how this wave function evolves over time is through the **Time-Dependent Schrödinger Equation**.\n",
        "\n",
        "The traditional notation for the time-dependent **Schrödinger Equation** for a particle moving in one dimension is as follows:\n",
        "* iħ ∂ψ(x,t) / ∂t = H ψ(x,t)\n",
        "\n",
        "We can use the Schrödinger Equation in different situations than the one described above. For example, we can use it to determine the stationary states and energy levels of a system. It is particularly useful for defining the energy levels and associated wave functions of a system.\n",
        "\n",
        "The time-independent Schrödinger equation is a fundamental tool for explaining the behavior of subatomic particles, molecular structures, and phenomena in solid-state physics. It plays a critical role in understanding interactions between atoms, chemical bonds, and crystal structures. This equation determines the distribution of electrons, energy levels, and wave functions based on the principles of quantum mechanics."
      ],
      "metadata": {
        "id": "nXvtGDKW5jcq"
      }
    },
    {
      "cell_type": "markdown",
      "source": [
        "**NOTE!.**\n",
        "\n",
        "---------------------------\n",
        "\n",
        "The wave function is a mathematical object that describes the state of a quantum system. This function specifies the possible positions and momenta of a particle. Thus, the time-independent Schrödinger equation determines the wave function of a particle and consequently its behavior.\n",
        "\n",
        "---------------------------"
      ],
      "metadata": {
        "id": "bjfdMTDy5rYh"
      }
    }
  ]
}