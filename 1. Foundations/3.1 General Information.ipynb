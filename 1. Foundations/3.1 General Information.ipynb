{
  "nbformat": 4,
  "nbformat_minor": 0,
  "metadata": {
    "colab": {
      "provenance": []
    },
    "kernelspec": {
      "name": "python3",
      "display_name": "Python 3"
    },
    "language_info": {
      "name": "python"
    }
  },
  "cells": [
    {
      "cell_type": "markdown",
      "source": [
        "# **3. Qubits, Operators, and Measurement**\n",
        "\n",
        "In Quantum Computing, instead of classical bits, we use Qubits. In this section of the study, we will discuss qubits and the basic operators we use to manipulate the state of qubits. Manipulating qubits is essential for storing, processing, and transmitting information in quantum computation and information processing. Manipulation involves changing the state of qubits to perform certain quantum algorithms and obtain results. This aims to solve specific computational problems by harnessing the potential advantages of quantum computers.\n",
        "\n",
        "A qubit is a quantum bit that, although it appears to take on the values of **0 or 1** as a classical bit, behaves differently in a superposition state, one of the properties provided by quantum computation.\n",
        "\n",
        "We typically use two-level qubit systems to construct quantum computers. In other words, qubits can take on the states of 0 or 1. These are called two-level qubits. In quantum mechanics, we represent the states of these systems as vectors and the operators as matrices. When representing this mathematically, we use Dirac notation instead of traditional linear algebra symbols."
      ],
      "metadata": {
        "id": "sWHvaHu1Cczx"
      }
    },
    {
      "cell_type": "markdown",
      "source": [
        "**a. What is a Qubit?**\n",
        "\n",
        "*Let's start with the question, \"What is a Qubit?\", before delving into details.*\n",
        "\n",
        "> It is the quantum mechanical counterpart of a classical bit (0 or 1). Mathematically, we can represent a qubit as a two-dimensional complex vector space, denoted as C^2. This vector space represents the state of the qubit, and the state of a qubit at any given time can be described by a vector in this space. The complex values of these vectors specify the superposition state and phase of the qubit. Thus, qubits can have the functionality of classical bits while also being able to utilize superposition and quantum interference based on the principles of quantum mechanics.\n",
        "\n",
        "After this definition, let's discuss how we will represent qubit states. The Hilbert Space is the mathematical concept used to represent qubit states. This space allows for the representation of different qubit states with vectors. The inner product between these vectors also determines the relative position of these states to each other. For example, if two qubit states are independent, their inner product is zero, indicating orthogonality. If they are in the same state, meaning they have the same vector, their inner product is one. *This expression was valid for representing a single qubit. But what if we want to represent multiple qubits?*\n",
        "\n",
        "To represent multiple qubits, we can combine these vector spaces, allowing us to express the joint states of qubits. In some cases, qubits are entangled, meaning the state of one qubit is directly related to the state of another. For example, the Bell state is precisely such a state, and terms like **entangled, complex** are used. In other cases, qubits are independent and are expressed as **separable** states.\n",
        "\n",
        "We use specific vectors to represent the states of qubits. These vectors form the computational basis of a two-level system. By applying operators in the form of matrices to these vectors, we manipulate the qubit states.\n",
        "\n",
        "**Below, matrices representing the |0> and |1> states are shown.**"
      ],
      "metadata": {
        "id": "rPnlKhaYCc2o"
      }
    },
    {
      "cell_type": "markdown",
      "source": [
        "![Capture.PNG](data:image/png;base64,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)"
      ],
      "metadata": {
        "id": "_Bp8xutoCc5B"
      }
    },
    {
      "cell_type": "markdown",
      "source": [
        "Now let's look at the state matrix of superposition.\n",
        "\n",
        "\n",
        "![lCapture.PNG](data:image/png;base64,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)\n",
        "\n",
        "\n"
      ],
      "metadata": {
        "id": "CodgM6z7Cc65"
      }
    },
    {
      "cell_type": "markdown",
      "source": [
        "**b. What are Quantum Operators?**\n",
        "\n",
        "*Let's begin by answering the question: What are Quantum Operators?, before delving into details.*\n",
        "\n",
        "> Quantum Operators, briefly, are special matrices used to change the state of qubits in quantum computers. These operators can transform one state of qubits into another and enable interactions between qubits. A quantum operator has a unit matrix and is reversible. This property allows for **reversible quantum computations.** Observable quantities or measurements are a special type of quantum operator called Hermitian operators, and these operators enable obtaining real numerical results during measurements in a quantum computer.\n",
        "\n"
      ],
      "metadata": {
        "id": "ypm_I_7iCc85"
      }
    },
    {
      "cell_type": "markdown",
      "source": [
        "-------------------\n",
        "\n",
        "Quantum operators are often referred to as \"gates\" because they behave like gates, performing specific operations on qubits. These operators are used in quantum circuits to perform certain quantum computing tasks.\n",
        "\n",
        "------------------------"
      ],
      "metadata": {
        "id": "A25gIuGWCtiB"
      }
    },
    {
      "cell_type": "markdown",
      "source": [
        "**c. Representing Superposition of States**\n",
        "\n",
        "As it is now known, the state of a qubit does not have to be only 0 or 1; it can also be a combination of these two states. This state is called a superposition state.\n",
        "\n",
        "* Mathematically, it is also expressed as 1/√2 (|0> + |1>).\n",
        "\n",
        "The expressions |0> and |1> in the above expression represent the fundamental states of the qubit. Each term in the superposition represents a combination of these fundamental states.\n",
        "\n",
        "* For example, an equal-weighted combination of ∣0⟩ and ∣1⟩ states represents the qubit's superposition state.\n",
        "\n",
        "The coefficient expression determining the weights of the 0 and 1 states in each term of the superposition is 1/√2. And this coefficient represents the probabilities of different states in the superposition. In the superposition state, this coefficient indicates that the 0 and 1 states are equally likely to occur.\n",
        "\n",
        "**Now let's discuss this state a bit further.**"
      ],
      "metadata": {
        "id": "Pea_Ozn5CtgB"
      }
    },
    {
      "cell_type": "markdown",
      "source": [
        "In cases where the state consists of a single qubit, we represent the superposition state using specific computational basis vectors as follows:\n",
        "\n",
        "* **|C> = 1/√2 (|0> +|1>)**\n",
        "\n",
        "This state tells us the following: The probability of the qubit being in both the |0> and |1> states is equal. This indicates that the qubit is in an equally weighted superposition between the **\"0 and 1\"** states.\n",
        "\n",
        "But is it always necessary to be like this? Theoretically, yes, for superposition, but it doesn't always have to be this way. Now let's examine the example below.\n",
        "\n",
        "* **|C> = 1/√2 (|0> - |1>)**\n",
        "\n",
        "In the above case, a negative phase is added to the |1> state relative to the |0> state. This indicates that the qubit is in a superposition balanced in favor of the |0> state, with a negative phase canceled out with respect to the |1> state. Simply put, the probability of being 1 is higher than being 0. This is because the negative phase contributes more to the \"1\" state.\n",
        "\n",
        "We can also express this phase term as **relative phase**. This term denotes the phase difference between two states, determining how quantum states interact. For example, the sum of two superposition states may lead to specific outcomes due to this relative phase difference. The relative phase is associated with an angle corresponding to -1 through Euler's identity."
      ],
      "metadata": {
        "id": "Gg1reCMiCtdx"
      }
    },
    {
      "cell_type": "markdown",
      "source": [
        "**d. Quantum Circuit Diagrams**\n",
        "\n",
        "We use circuit diagrams to express and illustrate quantum circuits. A quantum circuit specifies which operators will be applied to which qubit or qubits and in what order. Until today, there have been various proposals and representations, but the final touch came from Barenco and his colleagues, who established a set of basic operators we use today. Researchers Fredkin and Toffoli added **two ternary (triple)** operators to the system proposed by Barenco and his colleagues, completing its final form."
      ],
      "metadata": {
        "id": "6DNd61W_Ctbp"
      }
    }
  ]
}