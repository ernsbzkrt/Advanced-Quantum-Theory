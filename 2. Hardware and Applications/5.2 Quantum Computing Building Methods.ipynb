{
  "nbformat": 4,
  "nbformat_minor": 0,
  "metadata": {
    "colab": {
      "provenance": []
    },
    "kernelspec": {
      "name": "python3",
      "display_name": "Python 3"
    },
    "language_info": {
      "name": "python"
    }
  },
  "cells": [
    {
      "cell_type": "markdown",
      "source": [
        "### **5.2. Neutral Atoms**\n",
        "\n",
        "In this section, we will examine Neutral Atoms as they offer an extremely interesting approach for quantum computation. Research on ions (Trapped Ions) has been ongoing for a long time, but significant progress has been made recently.\n",
        "\n",
        "Neutral atom systems can be implemented by placing four laser beams around a cluster of atoms to create a magneto-optical trap. Laboratories typically use mercury (Hg) or rubidium (Rb) atoms for this purpose. Using this laser system, we can cool the atoms to very low temperatures. Then, we can transfer a small group of atoms to an addressable array. The Lukin Laboratory at Harvard has made progress in neutral atom systems and reported many advancements in controlling larger arrays of atoms. Similarly, David Weiss and his team at Penn State University have focused on neutral atom platforms and demonstrated a neutral atom experiment. The Pascal group in France and their academic partners at IOGS are developing a neutral atom quantum computer with more than 100 qubits.\n",
        "\n"
      ],
      "metadata": {
        "id": "OdjEnvPXiV7_"
      }
    },
    {
      "cell_type": "markdown",
      "source": [
        "### **5.3. NMR**\n",
        "\n",
        "Nuclear Magnetic Resonance (NMR) devices have played a significant role in the early stages of quantum computation. Essentially, spin qubits have been used here. Spin qubits are a reflection of a particle's quantum mechanical properties, indicating the alignment state of the particle's magnetic moment in a certain direction. NMR devices are a tool used to manipulate these spin qubits.\n",
        "\n",
        "Some researchers conducted an important experiment using Shor's algorithm to determine the factors of the number 15. Liquid-state NMR (LSNMR) arrangement was used in this experiment. While determining the factors of the number 15 might seem mathematically straightforward, it is an important step demonstrating the application of quantum principles to real-world problems in the field of computation.\n",
        "\n",
        "NMR devices are used to examine samples containing many atoms or molecules. In quantum computing applications, it is possible to encode quantum information using the magnetic moments of nuclei in these samples. Particularly, the nucleus of the hydrogen atom, found in many organic compounds, is often utilized for this purpose.\n",
        "\n",
        "These experiments are crucial in demonstrating the applicability of quantum computation to physical systems. However, there are challenges regarding the scalability of NMR-based systems. As the complexity of these systems increases, challenges arise in increasing processing power and ensuring error tolerance. Therefore, NMR-based quantum computation systems may encounter limitations in large-scale applications."
      ],
      "metadata": {
        "id": "Wxms3HwAioJv"
      }
    },
    {
      "cell_type": "markdown",
      "source": [
        "### **5.4. NV Center-in-Diamond**\n",
        "\n",
        "The nitrogen-vacancy (NV) center-in-diamond approach involves the absence of two carbon atoms in the diamond crystal structure, with one being replaced by a nitrogen ion. As a result of this process, a paramagnetic defect forms, which can function as a quantum bit. The state of the qubit can be manipulated with microwave fields and read out optically. Many laboratories have demonstrated the operation of fundamental NV systems.\n",
        "\n",
        "Instead of nitrogen enrichment, some laboratories have used silicon enrichment. Each method has its own advantages and disadvantages. For more detailed examinations of NV approaches, you can refer to the sources. Currently, research is ongoing on the successful implementation of a two-qubit operation on this platform."
      ],
      "metadata": {
        "id": "Z5H3m1R5iseG"
      }
    },
    {
      "cell_type": "markdown",
      "source": [
        "### **5.5. Photonics**\n",
        "\n",
        "Photonics can also be used in creating gate-based quantum computers. Linear Optics Quantum Computing (LOQC) employs linear optical elements to process quantum information. These elements preserve the coherence of light and apply unitary transformations on several qubits. However, photons do not interact with each other in a vacuum, so their interactions occur only indirectly through another medium. A method proposed by some researchers, using single photons, linear optics, and photodetectors for post-processing, enables the implementation of a scalable quantum computer.\n",
        "\n",
        "Another method, Fusion-Based Quantum Computing (FBQC), represents an approach to LOQC. This approach aims to create an error-resistant photonic quantum computer and relies on silicon photonics fabrication techniques. Another paradigm is Measurement-Based Quantum Computing (MBQC). This approach first prepares a multi-particle entangled state and then performs sequential single-qubit measurements to implement a quantum circuit."
      ],
      "metadata": {
        "id": "I6O43TLcisZG"
      }
    },
    {
      "cell_type": "markdown",
      "source": [
        "### **5.6. Spin Qubits**\n",
        "\n",
        "Silicon-based spin qubit technology represents an alternative approach to quantum computation. The basic idea here is to create quantum bits (qubits) from widely available semiconductor materials and scale them up using the accumulated knowledge in the integrated circuit industry over the years. However, creating a stable and addressable qubit in a standard CMOS (Complementary Metal-Oxide-Semiconductor) platform is quite challenging. While initial prototypes have been developed, making these qubits stable on a large scale has been a challenge.\n",
        "\n",
        "In these early attempts, a pair of quantum dots in a traditional CMOS setup is placed between a source and drain in a silicon semiconductor substrate. This structure is placed in a dilution refrigerator to operate at low temperatures. This temperature is typically around 1 Kelvin, higher than the temperatures at which superconducting qubits operate. Then, microwave pulses are applied to these qubits to manipulate their state.\n",
        "\n",
        "Various institutions are currently working on silicon-based spin qubit approaches. These approaches aim to investigate how efficient semiconductor materials can be in the field of quantum computation."
      ],
      "metadata": {
        "id": "WGV73_7xisGW"
      }
    },
    {
      "cell_type": "markdown",
      "source": [
        "### **5.7. Superconducting Qubits**\n",
        "\n",
        "Building quantum computers with superconducting qubits is an area that has been intensely studied by many research groups in recent years. Essentially, this approach relies on a qubit composed of a Cooper pair created with a Josephson junction. A Josephson junction is a thin insulating layer between two superconducting elements, enabling the passage of supercurrent between superconductors and is crucial for observing quantum mechanical events.\n",
        "\n",
        "The control of the qubit is done via microwave cables. By sending controlled pulses of specific microwave frequencies and durations to the qubit, a user can apply a series of unitary operators. This process is necessary to perform quantum computations by altering the state of the qubit. However, the entire device needs to be cooled to very low temperatures for these operations to be carried out. Typically, cooling is required to operate below 10 mK. This low temperature is necessary for effectively utilizing superconducting properties and ensuring the stable operation of qubits.\n",
        "\n",
        "However, it's also important to shield superconducting qubits from environmental influences. Magnetic fields and other environmental factors can cause unwanted interactions with qubits, leading to undesired error rates. Therefore, such systems for quantum computers are often operated in specialized laboratory environments shielded from magnetic fields and other external influences.\n",
        "\n",
        "Google, IBM, Rigetti, QCI, and many other research institutions are working on superconducting qubit quantum computers. These researchers continually develop new methods and technologies to improve the stability of qubits over longer periods and enable more complex computations with a larger number of qubits. Keeping track of developments in this field provides important insights into the future of quantum computing technology."
      ],
      "metadata": {
        "id": "UmS81nvKjCPO"
      }
    },
    {
      "cell_type": "markdown",
      "source": [
        "### **5.8. Topological Quantum Computing**\n",
        "\n",
        "Topological quantum computing (TQC) represents a unique approach to quantum computing. This approach seeks to leverage the special properties of two-dimensional quasi-particles called anyons. Anyons are a type of particle that are neither fermions like electrons nor bosons like photons.\n",
        "\n",
        "The fundamental idea of TQC is to create quantum computation systems by braiding anyons across four-dimensional spacetime. This is achieved by manipulating anyons around each other. This braiding process means that the topology of the system remains unchanged. Thus, even a small disturbance in the system does not affect the topology, and quantum computation can proceed.\n",
        "\n",
        "An important feature of this approach is its resilience to decoherence effects. The topology of the system remains unaffected by external influences, ensuring the stability of the quantum computer.\n",
        "\n",
        "The idea of topological quantum computing was first proposed by Alexei Kitaev. Later, Freedman, Kitaev, and others showed that such a topological computer is Turing complete. Institutions like Microsoft have launched various programs to research how this approach could be physically realized.\n",
        "\n",
        "Research in this field is still ongoing, with mathematical and physical studies being conducted to understand the potential of TQC."
      ],
      "metadata": {
        "id": "EU_TgWa9jrTQ"
      }
    },
    {
      "cell_type": "markdown",
      "source": [
        "**In summary ;**"
      ],
      "metadata": {
        "id": "btzZ4RvFkEiO"
      }
    },
    {
      "cell_type": "markdown",
      "source": [
        "Researchers are examining different designs for an error-resistant and scalable universal quantum computer. This process, from the perspective of quantum computer hardware, resembles a period akin to the 1940s and 1950s of classical computer science. Today's research groups are striving to understand which designs can scale and what kind of problems can be tackled with these platforms. The acceleration of the quantum hardware development process is likely, as progress is achievable with the contribution of a global community of academic and commercial researchers.\n",
        "\n",
        "We aim to reach >106 qubits to construct a fully error-corrected quantum computer. Current error correction techniques require approximately 1,000 physical qubits per logical qubit. Since several thousand logical qubits are necessary for algorithms like Shor's and other significant algorithms, we should aim to have between 106 to 107 qubits to achieve this goal."
      ],
      "metadata": {
        "id": "YkzSk5nBkEYV"
      }
    }
  ]
}