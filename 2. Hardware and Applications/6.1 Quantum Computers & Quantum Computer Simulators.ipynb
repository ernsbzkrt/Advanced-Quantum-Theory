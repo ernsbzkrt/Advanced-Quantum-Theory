{
  "nbformat": 4,
  "nbformat_minor": 0,
  "metadata": {
    "colab": {
      "provenance": []
    },
    "kernelspec": {
      "name": "python3",
      "display_name": "Python 3"
    },
    "language_info": {
      "name": "python"
    }
  },
  "cells": [
    {
      "cell_type": "markdown",
      "source": [
        "With the increasing interest and knowledge about quantum computers, numerous development libraries and tools have emerged in this field. Development environments and quantum circuit simulators have been made available in popular languages such as Python, C++, Java, and others.\n",
        "\n",
        "Many leading quantum computer research centers have focused on Python as the preferred language for creating quantum circuits. This preference can be attributed to its easy-to-use interface, significant advancements in areas like data science and machine learning, and its large developer community. Additionally, Python's flexibility as a high-level language that allows focusing on solving the problem at hand without dealing with too many formal details is also a significant advantage."
      ],
      "metadata": {
        "id": "ygODDB8tHVON"
      }
    },
    {
      "cell_type": "markdown",
      "source": [
        "-----------------------\n",
        "\n",
        "**Python:**\n",
        "* It is a dynamic language, meaning variable types do not need to be declared by the programmer.\n",
        "* It is an interpreted language, meaning it does not need to create a pre-compiled executable file.\n",
        "\n",
        "These reasons make Python an easy language for new users.\n",
        "\n",
        "-----------------------"
      ],
      "metadata": {
        "id": "8btEp5zfHVQs"
      }
    },
    {
      "cell_type": "markdown",
      "source": [
        "In this section of the study, we will discuss and delve into development libraries in the field of Quantum Computing. Personally, I use the Qiskit library provided by IBM. The reason I use this Python-based library is its easy syntax and widespread support. However, in addition to this library, I will also discuss libraries such as Cirq and Forest."
      ],
      "metadata": {
        "id": "tV3A2RzNHVS0"
      }
    },
    {
      "cell_type": "markdown",
      "source": [
        "### **6.1. Quantum Computers and Quantum Computer Simulators**\n",
        "\n",
        "Cloud Computing, which we frequently hear about nowadays, also manifests itself here. **Cloud Quantum Computing** provides an infrastructure where algorithms can be run on real quantum hardware for developers. This seemingly incredible reality is actually achieved with the help of a small simulator. Before running an algorithm on a quantum computer, a quantum simulator is used to test the code. These simulators run on classical computers and cannot process real quantum states, but they are extremely useful for testing the syntax and flow of the code. These simulators can run locally or in the cloud. It is acknowledged that when these simulators run on a classical computer, they cannot process real quantum states; however, they are very useful for testing the syntax and flow of the code.\n",
        "\n",
        "Simulating quantum circuits on classical computers is a challenging task. This is because of the exponential explosion of classical memory requirements."
      ],
      "metadata": {
        "id": "7EvOG0yLHiqd"
      }
    },
    {
      "cell_type": "markdown",
      "source": [
        "-------------------\n",
        "\n",
        "### **Exponential Explosion:**\n",
        "\n",
        "*A mathematical term referring to the rapid growth of a quantity. It is particularly used when one quantity grows exponentially with respect to another quantity, typically in a power relationship.*\n",
        "\n",
        "*In the context of quantum computing, exponential explosion signifies the rapid increase in memory requirements as the complexity of quantum systems increases. For example, the amount of memory required to fully describe the state of a quantum system increases exponentially with the number of qubits in the system. In this case, a small increase in the number of qubits can lead to a significant increase in memory requirements. This phenomenon makes it difficult to simulate quantum systems on classical computers because it is not feasible to cope with the rapidly increasing memory requirements of the systems.*\n",
        "\n",
        "-------------------"
      ],
      "metadata": {
        "id": "zMO8Tk-7HioD"
      }
    },
    {
      "cell_type": "markdown",
      "source": [
        "The amount of memory required to store the most general state of quantum systems increases rapidly with the number of qubits. For example, while a system of 30 qubits may require one gigabyte of memory, a system of 40 qubits may require one terabyte, and a system of 50 qubits may require one petabyte of memory.\n",
        "\n",
        "This points to the massive memory requirements that even today's most powerful supercomputers struggle to meet. Therefore, simulating larger quantum systems is nearly impossible because we cannot have enough memory to store even their wave functions. Consequently, simulators are typically used for testing and developing smaller quantum systems.\n",
        "\n",
        "Now, let's focus on how these simulators work. The most basic simulation method for a quantum computer involves:\n",
        "* executing a mathematical operation called a unitary transformation, which is essentially a quantum circuit. This operation is typically represented by the symbol \"U\". A quantum circuit takes an input state (wave function) and modifies this input state with this unitary transformation operation.\n",
        "\n",
        "To put it more simply:\n",
        "* In other words, a quantum circuit obtains a new state by multiplying the input state by a matrix called U. This matrix multiplication represents the transformations performed by the quantum gates contained within the circuit. As a result, this new state, referred to as the output of the quantum circuit, is obtained.\n",
        "\n",
        "The Quantum Computer simulator algorithm uses only this unitary transformation to obtain the final state. In other words, we obtain the next state by multiplying the initial wave function with this unitary transformation matrix. The new state obtained through matrix multiplication represents the output state of the simulated quantum circuit.\n",
        "\n",
        "In this method, instead of storing the complete unitary transformation of the quantum circuit, it is sufficient to store only the wave function. This reduces memory usage and provides a more efficient simulation."
      ],
      "metadata": {
        "id": "bmfbkt1FHil0"
      }
    }
  ]
}