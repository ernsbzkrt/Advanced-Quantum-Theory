{
  "nbformat": 4,
  "nbformat_minor": 0,
  "metadata": {
    "colab": {
      "provenance": []
    },
    "kernelspec": {
      "name": "python3",
      "display_name": "Python 3"
    },
    "language_info": {
      "name": "python"
    }
  },
  "cells": [
    {
      "cell_type": "markdown",
      "source": [
        "###**9.3 Quantum Phase Estimation**\n",
        "\n",
        "Quantum Phase Estimation (QPE), an important algorithm in quantum computing, focuses on predicting the phase information based on quantum mechanics principles. The primary goal of QPE is to accurately estimate the phase arising from the evolution of a quantum state under a specific Hamiltonian.\n",
        "\n",
        "QPE has become a critical tool, particularly for understanding the properties of quantum systems and developing various quantum algorithms. Specifically, it serves as a foundational component for significant quantum algorithms such as Shor's factorization algorithm and the Harrow-Hassidim-Lloyd (HHL) algorithm.\n",
        "\n",
        "####**9.3.1. Fundamentals of Quantum Phase Estimation**\n",
        "\n",
        "Quantum Phase Estimation (QPE) is a significant algorithm used in quantum computing, particularly for solving eigenvalue problems. This algorithm aims to accurately estimate the phase of an eigenvalue associated with a unitary operator, leveraging the quantum speedup advantage.\n",
        "\n",
        "**The QPE algorithm is used to estimate the phase of an eigenvalue corresponding to an eigenvector ∣ψ⟩ of a unitary operator U. This eigenvalue is typically expressed as e^(2πiθ), where θ represents the phase and is a value in the range 0≤θ<1.**\n",
        "\n",
        "**Let's examine the basic steps of QPE:**\n",
        "\n",
        "**1. Preparation Stage**\n",
        "\n",
        "Firstly, the QPE algorithm consists of two quantum circuits. The first one is a preparation circuit that applies a controlled version of the unitary operator whose eigenvalue's phase we want to estimate. The second one is the main QPE circuit responsible for performing the quantum phase estimation.\n",
        "\n",
        "**2. Initialization of Initial State**\n",
        "\n",
        "Initially, the input state of the main QPE circuit includes the state whose eigenvalue's phase we want to estimate (usually denoted as ∣𝜓⟩) and a quantum counter state.\n",
        "\n",
        "**3. Superposition Creation**\n",
        "\n",
        "A superposition state is created by applying a Hadamard gate to the counter state. This represents a state where different numbers can be computed simultaneously due to quantum parallelism.\n",
        "\n",
        "**4. Phase Kickback**\n",
        "\n",
        "In the control circuit, by applying the unitary operator, it affects the phase of the state ∣𝜓⟩. This interaction makes the superposition in the counter state sensitive to the phase of the eigenvalue. This concept plays a significant role in the quantum circuit computation process.\n",
        "\n",
        "**5. Phase Quantization**\n",
        "\n",
        "The phase generated in the counter state is distributed to various phase qubits. In this part, we store a portion of the phase in the quantum circuit for later use in the measurement process, and we reserve the rest for further operations.\n",
        "\n",
        "**6. Phase Measurement**\n",
        "\n",
        "The phase qubits in the counter state are measured. This measurement converts the quantum state of the eigenvalue's phase into a classical numerical representation.\n",
        "\n",
        "**7. Analysis Using Classical Methods**\n",
        "\n",
        "The obtained measurements are analyzed using classical computational methods. This analysis involves mathematical operations necessary for estimating the eigenvalue's phase.\n",
        "\n",
        "*In conclusion, the QPE algorithm leverages the parallel computational power of quantum computers to accurately estimate the phase of an eigenvalue associated with a unitary operator. This represents a significant achievement in quantum computing and forms the basis of various quantum algorithms.*"
      ],
      "metadata": {
        "id": "-lmV5kljjYlb"
      }
    },
    {
      "cell_type": "markdown",
      "source": [
        "####**9.3.2. Working Process of the QPE Algorithm**\n",
        "\n",
        "QPE typically consists of two main sections: the phase recording part and the part where the Quantum Fourier Transform (QFT) is applied. The fundamental steps of the algorithm are as follows:\n",
        "\n",
        "**1. Preparation**\n",
        "\n",
        "Preparation: Firstly, the number of phase recording qubits is determined for the operation of the QPE algorithm. This number of qubits determines the precision of the phase the algorithm aims to estimate. Typically, when 𝑡 qubits are used, the algorithm can make predictions with a precision of 2^−t.\n",
        "\n",
        "**2. State Construction**\n",
        "\n",
        "At the beginning of the algorithm, the ancillary qubits are put into a superposition state using Hadamard gates. This ensures that the ancillary qubits are in the state ∣+⟩. Then, the target state ∣𝜓⟩ is prepared.\n",
        "\n",
        "**3. Controlled-U Operations**\n",
        "\n",
        "Each ancillary qubit acts as a control qubit, and controlled powers of the 𝑈 operator, 𝑈^2^𝑘 (where 𝑘 is the index of the ancillary qubits), are applied. This process encodes the phase information into the ancillary qubits.\n",
        "\n",
        "**4. Inverse Quantum Fourier Transform**\n",
        "\n",
        "An inverse quantum Fourier transform (QFT) is applied to all ancillary qubits. This allows the phase information to be read as bits in the qubits.\n",
        "\n",
        "**5. Measurement**\n",
        "\n",
        "Finally, the ancillary qubits are measured, and the measurement results provide a binary approximation of 𝜃'. These measurement results provide a binary approximation of the phase of the eigenvalue, giving the value of 𝜃.\n",
        "\n",
        "*After these steps, using the obtained binary-based approximation, we can obtain the phase of the eigenvalue. The QPE algorithm is a fundamental tool for solving eigenvalue problems in quantum computers and provides faster and more effective results than classical algorithms by leveraging the quantum speedup advantage.*"
      ],
      "metadata": {
        "id": "MMMkdkcBjavC"
      }
    },
    {
      "cell_type": "markdown",
      "source": [
        "####**9.3.3. Applications and Research Areas**\n",
        "\n",
        "Quantum Phase Estimation (QPE) plays a significant role in various applications and research areas as one of the fundamental algorithms of quantum computing.\n",
        "\n",
        "*Here are some important applications and research areas of QPE:*\n",
        "\n",
        "**Calculation of Molecular Energy Levels**\n",
        "\n",
        "The fundamental properties of chemical systems and materials are associated with the eigenvalues of the relevant Hamiltonians. QPE can be used to compute these eigenvalues. Particularly, it can be employed to understand the electronic and structural properties of molecular structures and aid in the design of new materials.\n",
        "\n",
        "**Shor's Algorithm**\n",
        "\n",
        "Shor's algorithm enables the factorization of large numbers into prime factors. This algorithm performs the period-finding operation using QPE. While factoring large prime numbers could take an impractical amount of time on classical computers, Shor's algorithm significantly shortens this process.\n",
        "\n",
        "**HHL Algorithm**\n",
        "\n",
        "The HHL (Harrow-Hassidim-Lloyd) algorithm, used to solve linear systems of equations, employs QPE as a subroutine. This algorithm can rapidly solve large linear systems of equations by leveraging the parallel computational power of quantum computers. It finds significant applications in fields such as chemistry, finance, and optimization problems.\n",
        "\n"
      ],
      "metadata": {
        "id": "-42qdFmajtjK"
      }
    },
    {
      "cell_type": "markdown",
      "source": [
        "####**9.3.4. Limitations and Challenges**\n",
        "\n",
        "Effective implementation of QPE requires high precision and low error rates, which can be challenging, especially with current noisy quantum hardware. Physical errors and environmental effects can negatively impact the accuracy and reliability of the algorithm.\n",
        "\n",
        "The complexity of the algorithm is directly related to the number of auxiliary qubits used. Therefore, having a sufficient number and quality of qubits is important to solve large-scale problems.\n",
        "\n"
      ],
      "metadata": {
        "id": "OYlj0-fOjy1j"
      }
    },
    {
      "cell_type": "code",
      "source": [
        "from qiskit import QuantumCircuit, transpile\n",
        "from qiskit_aer import Aer\n",
        "from qiskit.visualization import plot_histogram\n",
        "import math\n",
        "\n",
        "def create_qft_circuit(n):\n",
        "    \"\"\"n-qubit QFT devresini oluşturur ve onu döndürür.\"\"\"\n",
        "    circuit = QuantumCircuit(n)\n",
        "    # QFT'yi adım adım uygula\n",
        "    for j in range(n):\n",
        "        # j'inci qubite Hadamard kapısı ekle\n",
        "        circuit.h(j)\n",
        "        for k in range(j + 1, n):\n",
        "            # j'inci qubite, k'inci qubitin kontrollüğünde dönel kapı ekle\n",
        "            angle = math.pi / (2 ** (k - j))\n",
        "            circuit.cp(angle, k, j)\n",
        "    # Qubit sıralamasını ters çevir\n",
        "    for i in range(n // 2):\n",
        "        circuit.swap(i, n - i - 1)\n",
        "    return circuit\n",
        "\n",
        "def create_inverse_qft_circuit(n):\n",
        "    \"\"\"n-qubit ters QFT devresini oluşturur ve onu döndürür.\"\"\"\n",
        "    # Önce QFT devresini oluştur\n",
        "    qft_circuit = create_qft_circuit(n)\n",
        "    # Devreyi ters çevir\n",
        "    inverse_qft_circuit = qft_circuit.inverse()\n",
        "    return inverse_qft_circuit\n",
        "\n",
        "# Parametreler\n",
        "num_counting_qubits = 3\n",
        "target_qubit = num_counting_qubits\n",
        "qc = QuantumCircuit(num_counting_qubits + 1, num_counting_qubits)\n",
        "\n",
        "# H kapılarını başlatma qubitlerine uygulama\n",
        "for qubit in range(num_counting_qubits):\n",
        "    qc.h(qubit)\n",
        "\n",
        "# Özvektör durumunu hazırlama\n",
        "qc.x(target_qubit)\n",
        "\n",
        "# Kontrol edilmiş-U işlemlerini uygulama\n",
        "repetitions = 1\n",
        "for counting_qubit in range(num_counting_qubits):\n",
        "    for _ in range(repetitions):\n",
        "        qc.cp(2 * math.pi, counting_qubit, target_qubit)  # Kontrol edilmiş U kapısı\n",
        "    repetitions *= 2\n",
        "\n",
        "# Ters QFT uygulama\n",
        "inverse_qft_circuit = create_inverse_qft_circuit(num_counting_qubits)\n",
        "qc.append(inverse_qft_circuit, range(num_counting_qubits))\n",
        "\n",
        "# Ölçüm yapma\n",
        "qc.measure(range(num_counting_qubits), range(num_counting_qubits))\n",
        "\n",
        "# Devreyi çizme ve çalıştırma\n",
        "print(qc.draw(output='text'))\n",
        "\n",
        "# Simülasyon yapma\n",
        "simulator = Aer.get_backend('aer_simulator')\n",
        "compiled_circuit = transpile(qc, simulator)\n",
        "job = simulator.run(compiled_circuit, shots=1024)\n",
        "result = job.result()\n",
        "\n",
        "# Histogramı gösterme\n",
        "plot_histogram(result.get_counts(), title=\"QPE Results\")\n"
      ],
      "metadata": {
        "colab": {
          "base_uri": "https://localhost:8080/",
          "height": 901
        },
        "id": "arf5M4OWj2HD",
        "outputId": "5429ce06-74f5-4960-fef1-441495fbc092"
      },
      "execution_count": 4,
      "outputs": [
        {
          "output_type": "stream",
          "name": "stdout",
          "text": [
            "     ┌───┐                                                        »\n",
            "q_0: ┤ H ├─■──────────────────────────────────────────────────────»\n",
            "     ├───┤ │                                                      »\n",
            "q_1: ┤ H ├─┼───────■───────■──────────────────────────────────────»\n",
            "     ├───┤ │       │       │                                      »\n",
            "q_2: ┤ H ├─┼───────┼───────┼───────■───────■───────■───────■──────»\n",
            "     ├───┤ │P(2π)  │P(2π)  │P(2π)  │P(2π)  │P(2π)  │P(2π)  │P(2π) »\n",
            "q_3: ┤ X ├─■───────■───────■───────■───────■───────■───────■──────»\n",
            "     └───┘                                                        »\n",
            "c: 3/═════════════════════════════════════════════════════════════»\n",
            "                                                                  »\n",
            "«     ┌─────────────────┐┌─┐      \n",
            "«q_0: ┤0                ├┤M├──────\n",
            "«     │                 │└╥┘┌─┐   \n",
            "«q_1: ┤1 circuit-168_dg ├─╫─┤M├───\n",
            "«     │                 │ ║ └╥┘┌─┐\n",
            "«q_2: ┤2                ├─╫──╫─┤M├\n",
            "«     └─────────────────┘ ║  ║ └╥┘\n",
            "«q_3: ────────────────────╫──╫──╫─\n",
            "«                         ║  ║  ║ \n",
            "«c: 3/════════════════════╩══╩══╩═\n",
            "«                         0  1  2 \n"
          ]
        },
        {
          "output_type": "execute_result",
          "data": {
            "text/plain": [
              "<Figure size 700x500 with 1 Axes>"
            ],
            "image/png": "[encoded data removed]"
          },
          "metadata": {},
          "execution_count": 4
        }
      ]
    },
    {
      "cell_type": "markdown",
      "source": [
        "The histogram graph you've uploaded illustrates the results of the Quantum Phase Estimation (QPE) algorithm. The \"000\" label and the number 1024 you see on the graph indicate that all measurements resulted in this outcome. This signifies that the unitary operator applied by the circuit predicted the phase to be \"0\".\n",
        "\n",
        "In this case, adding a phase of 2π (since a controlled \\(U\\) gate is used as a \\(Z\\) gate), actually doesn't change anything as per the equality e^i2π, hence, the eigenvalue is \\(+1\\), resulting in all measurements returning \"000\".\n",
        "\n",
        "This histogram demonstrates that the phase estimation algorithm worked correctly. Successfully predicting the phase as \"0\" indicates high accuracy of the system and that the simulation was conducted in a noiseless environment.\n",
        "\n",
        "The presence of only one bar in the graph indicates that the predictions of QPE for a particular state are highly consistent with the outcomes, implying that the quantum circuit is properly configured. The fact that all results in the histogram have the same value indicates that the predicted phase is exactly zero, affirming that the chosen eigenvector and unitary operator were correct.\n",
        "\n",
        "Obtaining these results is crucial, especially for verifying the accuracy of quantum algorithms and circuits. The design of the circuit signifies that the control qubits and measurement operations are correctly configured, and the phase estimation is successfully executed."
      ],
      "metadata": {
        "id": "O0I_UrHNj-yi"
      }
    }
  ]
}