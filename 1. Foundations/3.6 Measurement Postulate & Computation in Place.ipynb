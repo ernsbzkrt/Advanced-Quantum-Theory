{
  "nbformat": 4,
  "nbformat_minor": 0,
  "metadata": {
    "colab": {
      "provenance": []
    },
    "kernelspec": {
      "name": "python3",
      "display_name": "Python 3"
    },
    "language_info": {
      "name": "python"
    }
  },
  "cells": [
    {
      "cell_type": "markdown",
      "source": [
        "### **3.5. Measurement Postulate**\n",
        "\n",
        "In classical physics, measuring something usually doesn't change it. That is, we can easily measure a physical quantity, and when we measure another property afterward, the value of the thing we first measured doesn't change. This scenario is not as straightforward in Quantum Mechanics; it's quite different from classical physics.\n",
        "\n",
        "Considering the principles of Quantum Mechanics, we can express the measurement postulate as follows:\n",
        "\n",
        "> Every measurable physical quantity is defined by a Hermitian Operator that acts on a state called X.\n",
        "\n",
        "According to this postulate, we're saying that each observable is associated with a measurable observable. For instance, the position of a particle. This observable is represented by a special mathematical operator called a Hermitian operator. Hermitian operators have a special property where their adjoint is the same as themselves. That is, if O is a Hermitian operator, then its adjoint (conjugate transpose) will be equal to itself.\n",
        "\n",
        "The fundamental property of Hermitian operators is that their eigenvalues are real numbers. When measuring a physical property, we obtain the eigenvalues of that property. For example, when measuring the momentum or position of a particle, we should obtain a real number as a result. These eigenvalues are called the observable's eigenvalues and are determined by the projection operator that falls into the observable's eigenspace. So, for any observable, there is a subspace of eigenvectors (or eigenstates) corresponding to the observable's eigenvalues. After measurement, the system is represented by the unit eigenvector associated with the observable's eigenvalue. We've mentioned before that a system's state could be a mixture of multiple states. This situation can be expressed as a linear combination of orthonormal basis vectors. For example, a system's state can be expressed as the sum of basis vectors like 0 and 1 with certain coefficients. The question of how we can set up a measurement depends on the amplitudes of each state. The square of the amplitude modulus gives the probability of appearing as an outcome in the measurement. This is called the Born rule and is used to predict measurement outcomes. According to this rule, the probability of any eigenvalue (or state) is equal to the square of the relevant amplitude's absolute value."
      ],
      "metadata": {
        "id": "CxIeo7DxHaop"
      }
    },
    {
      "cell_type": "markdown",
      "source": [
        "### **3.6. In-Place Computation**\n",
        "\n",
        "The term \"Computation-in-Place\" typically refers to performing operations on existing memory without using additional memory for computation.\n",
        "\n",
        "The concept of In-Place Computation forms the basis of the quantum computing approach. Compared to classical computers, the process of information processing here is quite different. In classical computers, data is moved between different memory and computation registers of the processor. However, in quantum computers, all processing occurs on these qubits. After measurement, real-valued bits are obtained, and these results are shared with the main computer or classical computers that control the quantum processor when necessary.\n",
        "\n",
        "An important issue in quantum computation is how measurement is performed. Measurement relies on a value called \"amplitude,\" which is a complex mathematical property of each qubit state. However, these amplitudes are not predetermined, making it difficult to predict the output. Some algorithms can determine the amplitudes of qubits in advance to determine the output. This process is carried out through a process called QFT (Quantum Fourier Transform). QFT consists of a series of mathematical operators applied to qubits before measurement. This allows obtaining phase information after measurement, enabling a more precise determination of the output."
      ],
      "metadata": {
        "id": "VaHXRvghHoKp"
      }
    }
  ]
}